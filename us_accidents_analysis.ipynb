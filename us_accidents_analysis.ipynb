{
  "cells": [
    {
      "cell_type": "markdown",
      "source": [
        "# **Exploratory Data Analysis on US Accidents dataset**"
      ],
      "metadata": {
        "id": "1m-aSr05Z_51"
      }
    },
    {
      "cell_type": "markdown",
      "metadata": {
        "id": "FIPMsRH37EjL"
      },
      "source": [
        "\n",
        "# US Accidents Exploratory Data Analysis\n",
        "\n",
        "Exploratory Data Analysis (EDA) is an approach to analyze the data using visual techniques. It is used to discover trends, patterns, or to check assumptions with the help of statistical summary and graphical representations. \n",
        "\n",
        "The dataset used here is a countrywide accident dataset, with data from Feb 2016 to the end of Dec 2021. This dataset has been collected in real-time, using multiple Traffic APIs. I have downloaded this dataset from Kaggle.\n",
        "\n"
      ]
    },
    {
      "cell_type": "markdown",
      "source": [
        "Lets download the dataset from Kaggle"
      ],
      "metadata": {
        "id": "4WYf1QEWeabu"
      }
    },
    {
      "cell_type": "code",
      "execution_count": 32,
      "metadata": {
        "id": "O6QlzTGY7JT1"
      },
      "outputs": [],
      "source": [
        "pip install opendatasets --upgrade --quiet"
      ]
    },
    {
      "cell_type": "code",
      "execution_count": 3,
      "metadata": {
        "colab": {
          "base_uri": "https://localhost:8080/"
        },
        "id": "Cbgnqzgi8H5D",
        "outputId": "9ffa0aa2-f12e-4b58-d188-fd32d5648bdd"
      },
      "outputs": [
        {
          "output_type": "stream",
          "name": "stdout",
          "text": [
            "Please provide your Kaggle credentials to download this dataset. Learn more: http://bit.ly/kaggle-creds\n",
            "Your Kaggle username: ratanpalkekavya\n",
            "Your Kaggle Key: ··········\n",
            "Downloading us-accidents.zip to ./us-accidents\n"
          ]
        },
        {
          "output_type": "stream",
          "name": "stderr",
          "text": [
            "100%|██████████| 269M/269M [00:00<00:00, 302MB/s]\n"
          ]
        },
        {
          "output_type": "stream",
          "name": "stdout",
          "text": [
            "\n"
          ]
        }
      ],
      "source": [
        "import opendatasets as od\n",
        "\n",
        "download_url = 'https://www.kaggle.com/sobhanmoosavi/us-accidents'\n",
        "\n",
        "od.download(download_url)"
      ]
    },
    {
      "cell_type": "code",
      "execution_count": 4,
      "metadata": {
        "id": "QBJB1AK29BT2"
      },
      "outputs": [],
      "source": [
        "data_filename = '/content/us-accidents/US_Accidents_Dec21_updated.csv'"
      ]
    },
    {
      "cell_type": "markdown",
      "metadata": {
        "id": "L0doTYcH7Qxs"
      },
      "source": [
        "## Data Preparation and Cleaning\n",
        "\n",
        "1. Load the file using Pandas\n",
        "2. Look at some information about the data & the columns\n",
        "3. Fix any missing or incorrect values"
      ]
    },
    {
      "cell_type": "code",
      "execution_count": 5,
      "metadata": {
        "id": "p9o1x5mC7JJ-"
      },
      "outputs": [],
      "source": [
        "import pandas as pd"
      ]
    },
    {
      "cell_type": "code",
      "execution_count": 6,
      "metadata": {
        "id": "-2x1XO5w7VgE"
      },
      "outputs": [],
      "source": [
        "df = pd.read_csv(data_filename)"
      ]
    },
    {
      "cell_type": "code",
      "execution_count": 7,
      "metadata": {
        "colab": {
          "base_uri": "https://localhost:8080/",
          "height": 922
        },
        "id": "NHajB4gW7V8Z",
        "outputId": "f118e3ac-a89f-43de-cece-01ff5c5c7c23"
      },
      "outputs": [
        {
          "output_type": "execute_result",
          "data": {
            "text/plain": [
              "                ID  Severity           Start_Time             End_Time  \\\n",
              "0              A-1         3  2016-02-08 00:37:08  2016-02-08 06:37:08   \n",
              "1              A-2         2  2016-02-08 05:56:20  2016-02-08 11:56:20   \n",
              "2              A-3         2  2016-02-08 06:15:39  2016-02-08 12:15:39   \n",
              "3              A-4         2  2016-02-08 06:51:45  2016-02-08 12:51:45   \n",
              "4              A-5         3  2016-02-08 07:53:43  2016-02-08 13:53:43   \n",
              "...            ...       ...                  ...                  ...   \n",
              "2845337  A-2845338         2  2019-08-23 18:03:25  2019-08-23 18:32:01   \n",
              "2845338  A-2845339         2  2019-08-23 19:11:30  2019-08-23 19:38:23   \n",
              "2845339  A-2845340         2  2019-08-23 19:00:21  2019-08-23 19:28:49   \n",
              "2845340  A-2845341         2  2019-08-23 19:00:21  2019-08-23 19:29:42   \n",
              "2845341  A-2845342         2  2019-08-23 18:52:06  2019-08-23 19:21:31   \n",
              "\n",
              "         Start_Lat   Start_Lng    End_Lat     End_Lng  Distance(mi)  \\\n",
              "0        40.108910  -83.092860  40.112060  -83.031870         3.230   \n",
              "1        39.865420  -84.062800  39.865010  -84.048730         0.747   \n",
              "2        39.102660  -84.524680  39.102090  -84.523960         0.055   \n",
              "3        41.062130  -81.537840  41.062170  -81.535470         0.123   \n",
              "4        39.172393  -84.492792  39.170476  -84.501798         0.500   \n",
              "...            ...         ...        ...         ...           ...   \n",
              "2845337  34.002480 -117.379360  33.998880 -117.370940         0.543   \n",
              "2845338  32.766960 -117.148060  32.765550 -117.153630         0.338   \n",
              "2845339  33.775450 -117.847790  33.777400 -117.857270         0.561   \n",
              "2845340  33.992460 -118.403020  33.983110 -118.395650         0.772   \n",
              "2845341  34.133930 -117.230920  34.137360 -117.239340         0.537   \n",
              "\n",
              "                                               Description  ...  Roundabout  \\\n",
              "0        Between Sawmill Rd/Exit 20 and OH-315/Olentang...  ...       False   \n",
              "1                       At OH-4/OH-235/Exit 41 - Accident.  ...       False   \n",
              "2                         At I-71/US-50/Exit 1 - Accident.  ...       False   \n",
              "3                          At Dart Ave/Exit 21 - Accident.  ...       False   \n",
              "4                       At Mitchell Ave/Exit 6 - Accident.  ...       False   \n",
              "...                                                    ...  ...         ...   \n",
              "2845337                           At Market St - Accident.  ...       False   \n",
              "2845338    At Camino Del Rio/Mission Center Rd - Accident.  ...       False   \n",
              "2845339  At Glassell St/Grand Ave - Accident. in the ri...  ...       False   \n",
              "2845340     At CA-90/Marina Fwy/Jefferson Blvd - Accident.  ...       False   \n",
              "2845341              At Highland Ave/Arden Ave - Accident.  ...       False   \n",
              "\n",
              "        Station   Stop Traffic_Calming Traffic_Signal Turning_Loop  \\\n",
              "0         False  False           False          False        False   \n",
              "1         False  False           False          False        False   \n",
              "2         False  False           False          False        False   \n",
              "3         False  False           False          False        False   \n",
              "4         False  False           False          False        False   \n",
              "...         ...    ...             ...            ...          ...   \n",
              "2845337   False  False           False          False        False   \n",
              "2845338   False  False           False          False        False   \n",
              "2845339   False  False           False          False        False   \n",
              "2845340   False  False           False          False        False   \n",
              "2845341   False  False           False          False        False   \n",
              "\n",
              "        Sunrise_Sunset Civil_Twilight Nautical_Twilight Astronomical_Twilight  \n",
              "0                Night          Night             Night                 Night  \n",
              "1                Night          Night             Night                 Night  \n",
              "2                Night          Night             Night                   Day  \n",
              "3                Night          Night               Day                   Day  \n",
              "4                  Day            Day               Day                   Day  \n",
              "...                ...            ...               ...                   ...  \n",
              "2845337            Day            Day               Day                   Day  \n",
              "2845338            Day            Day               Day                   Day  \n",
              "2845339            Day            Day               Day                   Day  \n",
              "2845340            Day            Day               Day                   Day  \n",
              "2845341            Day            Day               Day                   Day  \n",
              "\n",
              "[2845342 rows x 47 columns]"
            ],
            "text/html": [
              "\n",
              "  <div id=\"df-3fd5e70b-7a50-4879-8b85-9dc4e940fb86\">\n",
              "    <div class=\"colab-df-container\">\n",
              "      <div>\n",
              "<style scoped>\n",
              "    .dataframe tbody tr th:only-of-type {\n",
              "        vertical-align: middle;\n",
              "    }\n",
              "\n",
              "    .dataframe tbody tr th {\n",
              "        vertical-align: top;\n",
              "    }\n",
              "\n",
              "    .dataframe thead th {\n",
              "        text-align: right;\n",
              "    }\n",
              "</style>\n",
              "<table border=\"1\" class=\"dataframe\">\n",
              "  <thead>\n",
              "    <tr style=\"text-align: right;\">\n",
              "      <th></th>\n",
              "      <th>ID</th>\n",
              "      <th>Severity</th>\n",
              "      <th>Start_Time</th>\n",
              "      <th>End_Time</th>\n",
              "      <th>Start_Lat</th>\n",
              "      <th>Start_Lng</th>\n",
              "      <th>End_Lat</th>\n",
              "      <th>End_Lng</th>\n",
              "      <th>Distance(mi)</th>\n",
              "      <th>Description</th>\n",
              "      <th>...</th>\n",
              "      <th>Roundabout</th>\n",
              "      <th>Station</th>\n",
              "      <th>Stop</th>\n",
              "      <th>Traffic_Calming</th>\n",
              "      <th>Traffic_Signal</th>\n",
              "      <th>Turning_Loop</th>\n",
              "      <th>Sunrise_Sunset</th>\n",
              "      <th>Civil_Twilight</th>\n",
              "      <th>Nautical_Twilight</th>\n",
              "      <th>Astronomical_Twilight</th>\n",
              "    </tr>\n",
              "  </thead>\n",
              "  <tbody>\n",
              "    <tr>\n",
              "      <th>0</th>\n",
              "      <td>A-1</td>\n",
              "      <td>3</td>\n",
              "      <td>2016-02-08 00:37:08</td>\n",
              "      <td>2016-02-08 06:37:08</td>\n",
              "      <td>40.108910</td>\n",
              "      <td>-83.092860</td>\n",
              "      <td>40.112060</td>\n",
              "      <td>-83.031870</td>\n",
              "      <td>3.230</td>\n",
              "      <td>Between Sawmill Rd/Exit 20 and OH-315/Olentang...</td>\n",
              "      <td>...</td>\n",
              "      <td>False</td>\n",
              "      <td>False</td>\n",
              "      <td>False</td>\n",
              "      <td>False</td>\n",
              "      <td>False</td>\n",
              "      <td>False</td>\n",
              "      <td>Night</td>\n",
              "      <td>Night</td>\n",
              "      <td>Night</td>\n",
              "      <td>Night</td>\n",
              "    </tr>\n",
              "    <tr>\n",
              "      <th>1</th>\n",
              "      <td>A-2</td>\n",
              "      <td>2</td>\n",
              "      <td>2016-02-08 05:56:20</td>\n",
              "      <td>2016-02-08 11:56:20</td>\n",
              "      <td>39.865420</td>\n",
              "      <td>-84.062800</td>\n",
              "      <td>39.865010</td>\n",
              "      <td>-84.048730</td>\n",
              "      <td>0.747</td>\n",
              "      <td>At OH-4/OH-235/Exit 41 - Accident.</td>\n",
              "      <td>...</td>\n",
              "      <td>False</td>\n",
              "      <td>False</td>\n",
              "      <td>False</td>\n",
              "      <td>False</td>\n",
              "      <td>False</td>\n",
              "      <td>False</td>\n",
              "      <td>Night</td>\n",
              "      <td>Night</td>\n",
              "      <td>Night</td>\n",
              "      <td>Night</td>\n",
              "    </tr>\n",
              "    <tr>\n",
              "      <th>2</th>\n",
              "      <td>A-3</td>\n",
              "      <td>2</td>\n",
              "      <td>2016-02-08 06:15:39</td>\n",
              "      <td>2016-02-08 12:15:39</td>\n",
              "      <td>39.102660</td>\n",
              "      <td>-84.524680</td>\n",
              "      <td>39.102090</td>\n",
              "      <td>-84.523960</td>\n",
              "      <td>0.055</td>\n",
              "      <td>At I-71/US-50/Exit 1 - Accident.</td>\n",
              "      <td>...</td>\n",
              "      <td>False</td>\n",
              "      <td>False</td>\n",
              "      <td>False</td>\n",
              "      <td>False</td>\n",
              "      <td>False</td>\n",
              "      <td>False</td>\n",
              "      <td>Night</td>\n",
              "      <td>Night</td>\n",
              "      <td>Night</td>\n",
              "      <td>Day</td>\n",
              "    </tr>\n",
              "    <tr>\n",
              "      <th>3</th>\n",
              "      <td>A-4</td>\n",
              "      <td>2</td>\n",
              "      <td>2016-02-08 06:51:45</td>\n",
              "      <td>2016-02-08 12:51:45</td>\n",
              "      <td>41.062130</td>\n",
              "      <td>-81.537840</td>\n",
              "      <td>41.062170</td>\n",
              "      <td>-81.535470</td>\n",
              "      <td>0.123</td>\n",
              "      <td>At Dart Ave/Exit 21 - Accident.</td>\n",
              "      <td>...</td>\n",
              "      <td>False</td>\n",
              "      <td>False</td>\n",
              "      <td>False</td>\n",
              "      <td>False</td>\n",
              "      <td>False</td>\n",
              "      <td>False</td>\n",
              "      <td>Night</td>\n",
              "      <td>Night</td>\n",
              "      <td>Day</td>\n",
              "      <td>Day</td>\n",
              "    </tr>\n",
              "    <tr>\n",
              "      <th>4</th>\n",
              "      <td>A-5</td>\n",
              "      <td>3</td>\n",
              "      <td>2016-02-08 07:53:43</td>\n",
              "      <td>2016-02-08 13:53:43</td>\n",
              "      <td>39.172393</td>\n",
              "      <td>-84.492792</td>\n",
              "      <td>39.170476</td>\n",
              "      <td>-84.501798</td>\n",
              "      <td>0.500</td>\n",
              "      <td>At Mitchell Ave/Exit 6 - Accident.</td>\n",
              "      <td>...</td>\n",
              "      <td>False</td>\n",
              "      <td>False</td>\n",
              "      <td>False</td>\n",
              "      <td>False</td>\n",
              "      <td>False</td>\n",
              "      <td>False</td>\n",
              "      <td>Day</td>\n",
              "      <td>Day</td>\n",
              "      <td>Day</td>\n",
              "      <td>Day</td>\n",
              "    </tr>\n",
              "    <tr>\n",
              "      <th>...</th>\n",
              "      <td>...</td>\n",
              "      <td>...</td>\n",
              "      <td>...</td>\n",
              "      <td>...</td>\n",
              "      <td>...</td>\n",
              "      <td>...</td>\n",
              "      <td>...</td>\n",
              "      <td>...</td>\n",
              "      <td>...</td>\n",
              "      <td>...</td>\n",
              "      <td>...</td>\n",
              "      <td>...</td>\n",
              "      <td>...</td>\n",
              "      <td>...</td>\n",
              "      <td>...</td>\n",
              "      <td>...</td>\n",
              "      <td>...</td>\n",
              "      <td>...</td>\n",
              "      <td>...</td>\n",
              "      <td>...</td>\n",
              "      <td>...</td>\n",
              "    </tr>\n",
              "    <tr>\n",
              "      <th>2845337</th>\n",
              "      <td>A-2845338</td>\n",
              "      <td>2</td>\n",
              "      <td>2019-08-23 18:03:25</td>\n",
              "      <td>2019-08-23 18:32:01</td>\n",
              "      <td>34.002480</td>\n",
              "      <td>-117.379360</td>\n",
              "      <td>33.998880</td>\n",
              "      <td>-117.370940</td>\n",
              "      <td>0.543</td>\n",
              "      <td>At Market St - Accident.</td>\n",
              "      <td>...</td>\n",
              "      <td>False</td>\n",
              "      <td>False</td>\n",
              "      <td>False</td>\n",
              "      <td>False</td>\n",
              "      <td>False</td>\n",
              "      <td>False</td>\n",
              "      <td>Day</td>\n",
              "      <td>Day</td>\n",
              "      <td>Day</td>\n",
              "      <td>Day</td>\n",
              "    </tr>\n",
              "    <tr>\n",
              "      <th>2845338</th>\n",
              "      <td>A-2845339</td>\n",
              "      <td>2</td>\n",
              "      <td>2019-08-23 19:11:30</td>\n",
              "      <td>2019-08-23 19:38:23</td>\n",
              "      <td>32.766960</td>\n",
              "      <td>-117.148060</td>\n",
              "      <td>32.765550</td>\n",
              "      <td>-117.153630</td>\n",
              "      <td>0.338</td>\n",
              "      <td>At Camino Del Rio/Mission Center Rd - Accident.</td>\n",
              "      <td>...</td>\n",
              "      <td>False</td>\n",
              "      <td>False</td>\n",
              "      <td>False</td>\n",
              "      <td>False</td>\n",
              "      <td>False</td>\n",
              "      <td>False</td>\n",
              "      <td>Day</td>\n",
              "      <td>Day</td>\n",
              "      <td>Day</td>\n",
              "      <td>Day</td>\n",
              "    </tr>\n",
              "    <tr>\n",
              "      <th>2845339</th>\n",
              "      <td>A-2845340</td>\n",
              "      <td>2</td>\n",
              "      <td>2019-08-23 19:00:21</td>\n",
              "      <td>2019-08-23 19:28:49</td>\n",
              "      <td>33.775450</td>\n",
              "      <td>-117.847790</td>\n",
              "      <td>33.777400</td>\n",
              "      <td>-117.857270</td>\n",
              "      <td>0.561</td>\n",
              "      <td>At Glassell St/Grand Ave - Accident. in the ri...</td>\n",
              "      <td>...</td>\n",
              "      <td>False</td>\n",
              "      <td>False</td>\n",
              "      <td>False</td>\n",
              "      <td>False</td>\n",
              "      <td>False</td>\n",
              "      <td>False</td>\n",
              "      <td>Day</td>\n",
              "      <td>Day</td>\n",
              "      <td>Day</td>\n",
              "      <td>Day</td>\n",
              "    </tr>\n",
              "    <tr>\n",
              "      <th>2845340</th>\n",
              "      <td>A-2845341</td>\n",
              "      <td>2</td>\n",
              "      <td>2019-08-23 19:00:21</td>\n",
              "      <td>2019-08-23 19:29:42</td>\n",
              "      <td>33.992460</td>\n",
              "      <td>-118.403020</td>\n",
              "      <td>33.983110</td>\n",
              "      <td>-118.395650</td>\n",
              "      <td>0.772</td>\n",
              "      <td>At CA-90/Marina Fwy/Jefferson Blvd - Accident.</td>\n",
              "      <td>...</td>\n",
              "      <td>False</td>\n",
              "      <td>False</td>\n",
              "      <td>False</td>\n",
              "      <td>False</td>\n",
              "      <td>False</td>\n",
              "      <td>False</td>\n",
              "      <td>Day</td>\n",
              "      <td>Day</td>\n",
              "      <td>Day</td>\n",
              "      <td>Day</td>\n",
              "    </tr>\n",
              "    <tr>\n",
              "      <th>2845341</th>\n",
              "      <td>A-2845342</td>\n",
              "      <td>2</td>\n",
              "      <td>2019-08-23 18:52:06</td>\n",
              "      <td>2019-08-23 19:21:31</td>\n",
              "      <td>34.133930</td>\n",
              "      <td>-117.230920</td>\n",
              "      <td>34.137360</td>\n",
              "      <td>-117.239340</td>\n",
              "      <td>0.537</td>\n",
              "      <td>At Highland Ave/Arden Ave - Accident.</td>\n",
              "      <td>...</td>\n",
              "      <td>False</td>\n",
              "      <td>False</td>\n",
              "      <td>False</td>\n",
              "      <td>False</td>\n",
              "      <td>False</td>\n",
              "      <td>False</td>\n",
              "      <td>Day</td>\n",
              "      <td>Day</td>\n",
              "      <td>Day</td>\n",
              "      <td>Day</td>\n",
              "    </tr>\n",
              "  </tbody>\n",
              "</table>\n",
              "<p>2845342 rows × 47 columns</p>\n",
              "</div>\n",
              "      <button class=\"colab-df-convert\" onclick=\"convertToInteractive('df-3fd5e70b-7a50-4879-8b85-9dc4e940fb86')\"\n",
              "              title=\"Convert this dataframe to an interactive table.\"\n",
              "              style=\"display:none;\">\n",
              "        \n",
              "  <svg xmlns=\"http://www.w3.org/2000/svg\" height=\"24px\"viewBox=\"0 0 24 24\"\n",
              "       width=\"24px\">\n",
              "    <path d=\"M0 0h24v24H0V0z\" fill=\"none\"/>\n",
              "    <path d=\"M18.56 5.44l.94 2.06.94-2.06 2.06-.94-2.06-.94-.94-2.06-.94 2.06-2.06.94zm-11 1L8.5 8.5l.94-2.06 2.06-.94-2.06-.94L8.5 2.5l-.94 2.06-2.06.94zm10 10l.94 2.06.94-2.06 2.06-.94-2.06-.94-.94-2.06-.94 2.06-2.06.94z\"/><path d=\"M17.41 7.96l-1.37-1.37c-.4-.4-.92-.59-1.43-.59-.52 0-1.04.2-1.43.59L10.3 9.45l-7.72 7.72c-.78.78-.78 2.05 0 2.83L4 21.41c.39.39.9.59 1.41.59.51 0 1.02-.2 1.41-.59l7.78-7.78 2.81-2.81c.8-.78.8-2.07 0-2.86zM5.41 20L4 18.59l7.72-7.72 1.47 1.35L5.41 20z\"/>\n",
              "  </svg>\n",
              "      </button>\n",
              "      \n",
              "  <style>\n",
              "    .colab-df-container {\n",
              "      display:flex;\n",
              "      flex-wrap:wrap;\n",
              "      gap: 12px;\n",
              "    }\n",
              "\n",
              "    .colab-df-convert {\n",
              "      background-color: #E8F0FE;\n",
              "      border: none;\n",
              "      border-radius: 50%;\n",
              "      cursor: pointer;\n",
              "      display: none;\n",
              "      fill: #1967D2;\n",
              "      height: 32px;\n",
              "      padding: 0 0 0 0;\n",
              "      width: 32px;\n",
              "    }\n",
              "\n",
              "    .colab-df-convert:hover {\n",
              "      background-color: #E2EBFA;\n",
              "      box-shadow: 0px 1px 2px rgba(60, 64, 67, 0.3), 0px 1px 3px 1px rgba(60, 64, 67, 0.15);\n",
              "      fill: #174EA6;\n",
              "    }\n",
              "\n",
              "    [theme=dark] .colab-df-convert {\n",
              "      background-color: #3B4455;\n",
              "      fill: #D2E3FC;\n",
              "    }\n",
              "\n",
              "    [theme=dark] .colab-df-convert:hover {\n",
              "      background-color: #434B5C;\n",
              "      box-shadow: 0px 1px 3px 1px rgba(0, 0, 0, 0.15);\n",
              "      filter: drop-shadow(0px 1px 2px rgba(0, 0, 0, 0.3));\n",
              "      fill: #FFFFFF;\n",
              "    }\n",
              "  </style>\n",
              "\n",
              "      <script>\n",
              "        const buttonEl =\n",
              "          document.querySelector('#df-3fd5e70b-7a50-4879-8b85-9dc4e940fb86 button.colab-df-convert');\n",
              "        buttonEl.style.display =\n",
              "          google.colab.kernel.accessAllowed ? 'block' : 'none';\n",
              "\n",
              "        async function convertToInteractive(key) {\n",
              "          const element = document.querySelector('#df-3fd5e70b-7a50-4879-8b85-9dc4e940fb86');\n",
              "          const dataTable =\n",
              "            await google.colab.kernel.invokeFunction('convertToInteractive',\n",
              "                                                     [key], {});\n",
              "          if (!dataTable) return;\n",
              "\n",
              "          const docLinkHtml = 'Like what you see? Visit the ' +\n",
              "            '<a target=\"_blank\" href=https://colab.research.google.com/notebooks/data_table.ipynb>data table notebook</a>'\n",
              "            + ' to learn more about interactive tables.';\n",
              "          element.innerHTML = '';\n",
              "          dataTable['output_type'] = 'display_data';\n",
              "          await google.colab.output.renderOutput(dataTable, element);\n",
              "          const docLink = document.createElement('div');\n",
              "          docLink.innerHTML = docLinkHtml;\n",
              "          element.appendChild(docLink);\n",
              "        }\n",
              "      </script>\n",
              "    </div>\n",
              "  </div>\n",
              "  "
            ]
          },
          "metadata": {},
          "execution_count": 7
        }
      ],
      "source": [
        "df"
      ]
    },
    {
      "cell_type": "markdown",
      "source": [
        "There are 2845342 rows and 47 columns.\n",
        "Lets get some information about data type of columns."
      ],
      "metadata": {
        "id": "g7ro-HEJhS-3"
      }
    },
    {
      "cell_type": "code",
      "execution_count": 8,
      "metadata": {
        "colab": {
          "base_uri": "https://localhost:8080/"
        },
        "id": "lnQGGWJV93Qy",
        "outputId": "b8fdfe03-8f63-4f03-f22f-156cd9bb85a0"
      },
      "outputs": [
        {
          "output_type": "stream",
          "name": "stdout",
          "text": [
            "<class 'pandas.core.frame.DataFrame'>\n",
            "RangeIndex: 2845342 entries, 0 to 2845341\n",
            "Data columns (total 47 columns):\n",
            " #   Column                 Dtype  \n",
            "---  ------                 -----  \n",
            " 0   ID                     object \n",
            " 1   Severity               int64  \n",
            " 2   Start_Time             object \n",
            " 3   End_Time               object \n",
            " 4   Start_Lat              float64\n",
            " 5   Start_Lng              float64\n",
            " 6   End_Lat                float64\n",
            " 7   End_Lng                float64\n",
            " 8   Distance(mi)           float64\n",
            " 9   Description            object \n",
            " 10  Number                 float64\n",
            " 11  Street                 object \n",
            " 12  Side                   object \n",
            " 13  City                   object \n",
            " 14  County                 object \n",
            " 15  State                  object \n",
            " 16  Zipcode                object \n",
            " 17  Country                object \n",
            " 18  Timezone               object \n",
            " 19  Airport_Code           object \n",
            " 20  Weather_Timestamp      object \n",
            " 21  Temperature(F)         float64\n",
            " 22  Wind_Chill(F)          float64\n",
            " 23  Humidity(%)            float64\n",
            " 24  Pressure(in)           float64\n",
            " 25  Visibility(mi)         float64\n",
            " 26  Wind_Direction         object \n",
            " 27  Wind_Speed(mph)        float64\n",
            " 28  Precipitation(in)      float64\n",
            " 29  Weather_Condition      object \n",
            " 30  Amenity                bool   \n",
            " 31  Bump                   bool   \n",
            " 32  Crossing               bool   \n",
            " 33  Give_Way               bool   \n",
            " 34  Junction               bool   \n",
            " 35  No_Exit                bool   \n",
            " 36  Railway                bool   \n",
            " 37  Roundabout             bool   \n",
            " 38  Station                bool   \n",
            " 39  Stop                   bool   \n",
            " 40  Traffic_Calming        bool   \n",
            " 41  Traffic_Signal         bool   \n",
            " 42  Turning_Loop           bool   \n",
            " 43  Sunrise_Sunset         object \n",
            " 44  Civil_Twilight         object \n",
            " 45  Nautical_Twilight      object \n",
            " 46  Astronomical_Twilight  object \n",
            "dtypes: bool(13), float64(13), int64(1), object(20)\n",
            "memory usage: 773.4+ MB\n"
          ]
        }
      ],
      "source": [
        "df.info()"
      ]
    },
    {
      "cell_type": "markdown",
      "source": [
        "Lets get some statistical summary."
      ],
      "metadata": {
        "id": "T22D0z5Yhs5H"
      }
    },
    {
      "cell_type": "code",
      "execution_count": 9,
      "metadata": {
        "colab": {
          "base_uri": "https://localhost:8080/",
          "height": 364
        },
        "id": "uJGnotnv-WXC",
        "outputId": "c3bc4609-9f93-45d6-9d77-3b9e14241ff6"
      },
      "outputs": [
        {
          "output_type": "execute_result",
          "data": {
            "text/plain": [
              "           Severity     Start_Lat     Start_Lng       End_Lat       End_Lng  \\\n",
              "count  2.845342e+06  2.845342e+06  2.845342e+06  2.845342e+06  2.845342e+06   \n",
              "mean   2.137572e+00  3.624520e+01 -9.711463e+01  3.624532e+01 -9.711439e+01   \n",
              "std    4.787216e-01  5.363797e+00  1.831782e+01  5.363873e+00  1.831763e+01   \n",
              "min    1.000000e+00  2.456603e+01 -1.245481e+02  2.456601e+01 -1.245457e+02   \n",
              "25%    2.000000e+00  3.344517e+01 -1.180331e+02  3.344628e+01 -1.180333e+02   \n",
              "50%    2.000000e+00  3.609861e+01 -9.241808e+01  3.609799e+01 -9.241772e+01   \n",
              "75%    2.000000e+00  4.016024e+01 -8.037243e+01  4.016105e+01 -8.037338e+01   \n",
              "max    4.000000e+00  4.900058e+01 -6.711317e+01  4.907500e+01 -6.710924e+01   \n",
              "\n",
              "       Distance(mi)        Number  Temperature(F)  Wind_Chill(F)  \\\n",
              "count  2.845342e+06  1.101431e+06    2.776068e+06   2.375699e+06   \n",
              "mean   7.026779e-01  8.089408e+03    6.179356e+01   5.965823e+01   \n",
              "std    1.560361e+00  1.836009e+04    1.862263e+01   2.116097e+01   \n",
              "min    0.000000e+00  0.000000e+00   -8.900000e+01  -8.900000e+01   \n",
              "25%    5.200000e-02  1.270000e+03    5.000000e+01   4.600000e+01   \n",
              "50%    2.440000e-01  4.007000e+03    6.400000e+01   6.300000e+01   \n",
              "75%    7.640000e-01  9.567000e+03    7.600000e+01   7.600000e+01   \n",
              "max    1.551860e+02  9.999997e+06    1.960000e+02   1.960000e+02   \n",
              "\n",
              "        Humidity(%)  Pressure(in)  Visibility(mi)  Wind_Speed(mph)  \\\n",
              "count  2.772250e+06  2.786142e+06    2.774796e+06     2.687398e+06   \n",
              "mean   6.436545e+01  2.947234e+01    9.099391e+00     7.395044e+00   \n",
              "std    2.287457e+01  1.045286e+00    2.717546e+00     5.527454e+00   \n",
              "min    1.000000e+00  0.000000e+00    0.000000e+00     0.000000e+00   \n",
              "25%    4.800000e+01  2.931000e+01    1.000000e+01     3.500000e+00   \n",
              "50%    6.700000e+01  2.982000e+01    1.000000e+01     7.000000e+00   \n",
              "75%    8.300000e+01  3.001000e+01    1.000000e+01     1.000000e+01   \n",
              "max    1.000000e+02  5.890000e+01    1.400000e+02     1.087000e+03   \n",
              "\n",
              "       Precipitation(in)  \n",
              "count       2.295884e+06  \n",
              "mean        7.016940e-03  \n",
              "std         9.348831e-02  \n",
              "min         0.000000e+00  \n",
              "25%         0.000000e+00  \n",
              "50%         0.000000e+00  \n",
              "75%         0.000000e+00  \n",
              "max         2.400000e+01  "
            ],
            "text/html": [
              "\n",
              "  <div id=\"df-4827f607-bdba-48d6-bc25-a1ec9c589154\">\n",
              "    <div class=\"colab-df-container\">\n",
              "      <div>\n",
              "<style scoped>\n",
              "    .dataframe tbody tr th:only-of-type {\n",
              "        vertical-align: middle;\n",
              "    }\n",
              "\n",
              "    .dataframe tbody tr th {\n",
              "        vertical-align: top;\n",
              "    }\n",
              "\n",
              "    .dataframe thead th {\n",
              "        text-align: right;\n",
              "    }\n",
              "</style>\n",
              "<table border=\"1\" class=\"dataframe\">\n",
              "  <thead>\n",
              "    <tr style=\"text-align: right;\">\n",
              "      <th></th>\n",
              "      <th>Severity</th>\n",
              "      <th>Start_Lat</th>\n",
              "      <th>Start_Lng</th>\n",
              "      <th>End_Lat</th>\n",
              "      <th>End_Lng</th>\n",
              "      <th>Distance(mi)</th>\n",
              "      <th>Number</th>\n",
              "      <th>Temperature(F)</th>\n",
              "      <th>Wind_Chill(F)</th>\n",
              "      <th>Humidity(%)</th>\n",
              "      <th>Pressure(in)</th>\n",
              "      <th>Visibility(mi)</th>\n",
              "      <th>Wind_Speed(mph)</th>\n",
              "      <th>Precipitation(in)</th>\n",
              "    </tr>\n",
              "  </thead>\n",
              "  <tbody>\n",
              "    <tr>\n",
              "      <th>count</th>\n",
              "      <td>2.845342e+06</td>\n",
              "      <td>2.845342e+06</td>\n",
              "      <td>2.845342e+06</td>\n",
              "      <td>2.845342e+06</td>\n",
              "      <td>2.845342e+06</td>\n",
              "      <td>2.845342e+06</td>\n",
              "      <td>1.101431e+06</td>\n",
              "      <td>2.776068e+06</td>\n",
              "      <td>2.375699e+06</td>\n",
              "      <td>2.772250e+06</td>\n",
              "      <td>2.786142e+06</td>\n",
              "      <td>2.774796e+06</td>\n",
              "      <td>2.687398e+06</td>\n",
              "      <td>2.295884e+06</td>\n",
              "    </tr>\n",
              "    <tr>\n",
              "      <th>mean</th>\n",
              "      <td>2.137572e+00</td>\n",
              "      <td>3.624520e+01</td>\n",
              "      <td>-9.711463e+01</td>\n",
              "      <td>3.624532e+01</td>\n",
              "      <td>-9.711439e+01</td>\n",
              "      <td>7.026779e-01</td>\n",
              "      <td>8.089408e+03</td>\n",
              "      <td>6.179356e+01</td>\n",
              "      <td>5.965823e+01</td>\n",
              "      <td>6.436545e+01</td>\n",
              "      <td>2.947234e+01</td>\n",
              "      <td>9.099391e+00</td>\n",
              "      <td>7.395044e+00</td>\n",
              "      <td>7.016940e-03</td>\n",
              "    </tr>\n",
              "    <tr>\n",
              "      <th>std</th>\n",
              "      <td>4.787216e-01</td>\n",
              "      <td>5.363797e+00</td>\n",
              "      <td>1.831782e+01</td>\n",
              "      <td>5.363873e+00</td>\n",
              "      <td>1.831763e+01</td>\n",
              "      <td>1.560361e+00</td>\n",
              "      <td>1.836009e+04</td>\n",
              "      <td>1.862263e+01</td>\n",
              "      <td>2.116097e+01</td>\n",
              "      <td>2.287457e+01</td>\n",
              "      <td>1.045286e+00</td>\n",
              "      <td>2.717546e+00</td>\n",
              "      <td>5.527454e+00</td>\n",
              "      <td>9.348831e-02</td>\n",
              "    </tr>\n",
              "    <tr>\n",
              "      <th>min</th>\n",
              "      <td>1.000000e+00</td>\n",
              "      <td>2.456603e+01</td>\n",
              "      <td>-1.245481e+02</td>\n",
              "      <td>2.456601e+01</td>\n",
              "      <td>-1.245457e+02</td>\n",
              "      <td>0.000000e+00</td>\n",
              "      <td>0.000000e+00</td>\n",
              "      <td>-8.900000e+01</td>\n",
              "      <td>-8.900000e+01</td>\n",
              "      <td>1.000000e+00</td>\n",
              "      <td>0.000000e+00</td>\n",
              "      <td>0.000000e+00</td>\n",
              "      <td>0.000000e+00</td>\n",
              "      <td>0.000000e+00</td>\n",
              "    </tr>\n",
              "    <tr>\n",
              "      <th>25%</th>\n",
              "      <td>2.000000e+00</td>\n",
              "      <td>3.344517e+01</td>\n",
              "      <td>-1.180331e+02</td>\n",
              "      <td>3.344628e+01</td>\n",
              "      <td>-1.180333e+02</td>\n",
              "      <td>5.200000e-02</td>\n",
              "      <td>1.270000e+03</td>\n",
              "      <td>5.000000e+01</td>\n",
              "      <td>4.600000e+01</td>\n",
              "      <td>4.800000e+01</td>\n",
              "      <td>2.931000e+01</td>\n",
              "      <td>1.000000e+01</td>\n",
              "      <td>3.500000e+00</td>\n",
              "      <td>0.000000e+00</td>\n",
              "    </tr>\n",
              "    <tr>\n",
              "      <th>50%</th>\n",
              "      <td>2.000000e+00</td>\n",
              "      <td>3.609861e+01</td>\n",
              "      <td>-9.241808e+01</td>\n",
              "      <td>3.609799e+01</td>\n",
              "      <td>-9.241772e+01</td>\n",
              "      <td>2.440000e-01</td>\n",
              "      <td>4.007000e+03</td>\n",
              "      <td>6.400000e+01</td>\n",
              "      <td>6.300000e+01</td>\n",
              "      <td>6.700000e+01</td>\n",
              "      <td>2.982000e+01</td>\n",
              "      <td>1.000000e+01</td>\n",
              "      <td>7.000000e+00</td>\n",
              "      <td>0.000000e+00</td>\n",
              "    </tr>\n",
              "    <tr>\n",
              "      <th>75%</th>\n",
              "      <td>2.000000e+00</td>\n",
              "      <td>4.016024e+01</td>\n",
              "      <td>-8.037243e+01</td>\n",
              "      <td>4.016105e+01</td>\n",
              "      <td>-8.037338e+01</td>\n",
              "      <td>7.640000e-01</td>\n",
              "      <td>9.567000e+03</td>\n",
              "      <td>7.600000e+01</td>\n",
              "      <td>7.600000e+01</td>\n",
              "      <td>8.300000e+01</td>\n",
              "      <td>3.001000e+01</td>\n",
              "      <td>1.000000e+01</td>\n",
              "      <td>1.000000e+01</td>\n",
              "      <td>0.000000e+00</td>\n",
              "    </tr>\n",
              "    <tr>\n",
              "      <th>max</th>\n",
              "      <td>4.000000e+00</td>\n",
              "      <td>4.900058e+01</td>\n",
              "      <td>-6.711317e+01</td>\n",
              "      <td>4.907500e+01</td>\n",
              "      <td>-6.710924e+01</td>\n",
              "      <td>1.551860e+02</td>\n",
              "      <td>9.999997e+06</td>\n",
              "      <td>1.960000e+02</td>\n",
              "      <td>1.960000e+02</td>\n",
              "      <td>1.000000e+02</td>\n",
              "      <td>5.890000e+01</td>\n",
              "      <td>1.400000e+02</td>\n",
              "      <td>1.087000e+03</td>\n",
              "      <td>2.400000e+01</td>\n",
              "    </tr>\n",
              "  </tbody>\n",
              "</table>\n",
              "</div>\n",
              "      <button class=\"colab-df-convert\" onclick=\"convertToInteractive('df-4827f607-bdba-48d6-bc25-a1ec9c589154')\"\n",
              "              title=\"Convert this dataframe to an interactive table.\"\n",
              "              style=\"display:none;\">\n",
              "        \n",
              "  <svg xmlns=\"http://www.w3.org/2000/svg\" height=\"24px\"viewBox=\"0 0 24 24\"\n",
              "       width=\"24px\">\n",
              "    <path d=\"M0 0h24v24H0V0z\" fill=\"none\"/>\n",
              "    <path d=\"M18.56 5.44l.94 2.06.94-2.06 2.06-.94-2.06-.94-.94-2.06-.94 2.06-2.06.94zm-11 1L8.5 8.5l.94-2.06 2.06-.94-2.06-.94L8.5 2.5l-.94 2.06-2.06.94zm10 10l.94 2.06.94-2.06 2.06-.94-2.06-.94-.94-2.06-.94 2.06-2.06.94z\"/><path d=\"M17.41 7.96l-1.37-1.37c-.4-.4-.92-.59-1.43-.59-.52 0-1.04.2-1.43.59L10.3 9.45l-7.72 7.72c-.78.78-.78 2.05 0 2.83L4 21.41c.39.39.9.59 1.41.59.51 0 1.02-.2 1.41-.59l7.78-7.78 2.81-2.81c.8-.78.8-2.07 0-2.86zM5.41 20L4 18.59l7.72-7.72 1.47 1.35L5.41 20z\"/>\n",
              "  </svg>\n",
              "      </button>\n",
              "      \n",
              "  <style>\n",
              "    .colab-df-container {\n",
              "      display:flex;\n",
              "      flex-wrap:wrap;\n",
              "      gap: 12px;\n",
              "    }\n",
              "\n",
              "    .colab-df-convert {\n",
              "      background-color: #E8F0FE;\n",
              "      border: none;\n",
              "      border-radius: 50%;\n",
              "      cursor: pointer;\n",
              "      display: none;\n",
              "      fill: #1967D2;\n",
              "      height: 32px;\n",
              "      padding: 0 0 0 0;\n",
              "      width: 32px;\n",
              "    }\n",
              "\n",
              "    .colab-df-convert:hover {\n",
              "      background-color: #E2EBFA;\n",
              "      box-shadow: 0px 1px 2px rgba(60, 64, 67, 0.3), 0px 1px 3px 1px rgba(60, 64, 67, 0.15);\n",
              "      fill: #174EA6;\n",
              "    }\n",
              "\n",
              "    [theme=dark] .colab-df-convert {\n",
              "      background-color: #3B4455;\n",
              "      fill: #D2E3FC;\n",
              "    }\n",
              "\n",
              "    [theme=dark] .colab-df-convert:hover {\n",
              "      background-color: #434B5C;\n",
              "      box-shadow: 0px 1px 3px 1px rgba(0, 0, 0, 0.15);\n",
              "      filter: drop-shadow(0px 1px 2px rgba(0, 0, 0, 0.3));\n",
              "      fill: #FFFFFF;\n",
              "    }\n",
              "  </style>\n",
              "\n",
              "      <script>\n",
              "        const buttonEl =\n",
              "          document.querySelector('#df-4827f607-bdba-48d6-bc25-a1ec9c589154 button.colab-df-convert');\n",
              "        buttonEl.style.display =\n",
              "          google.colab.kernel.accessAllowed ? 'block' : 'none';\n",
              "\n",
              "        async function convertToInteractive(key) {\n",
              "          const element = document.querySelector('#df-4827f607-bdba-48d6-bc25-a1ec9c589154');\n",
              "          const dataTable =\n",
              "            await google.colab.kernel.invokeFunction('convertToInteractive',\n",
              "                                                     [key], {});\n",
              "          if (!dataTable) return;\n",
              "\n",
              "          const docLinkHtml = 'Like what you see? Visit the ' +\n",
              "            '<a target=\"_blank\" href=https://colab.research.google.com/notebooks/data_table.ipynb>data table notebook</a>'\n",
              "            + ' to learn more about interactive tables.';\n",
              "          element.innerHTML = '';\n",
              "          dataTable['output_type'] = 'display_data';\n",
              "          await google.colab.output.renderOutput(dataTable, element);\n",
              "          const docLink = document.createElement('div');\n",
              "          docLink.innerHTML = docLinkHtml;\n",
              "          element.appendChild(docLink);\n",
              "        }\n",
              "      </script>\n",
              "    </div>\n",
              "  </div>\n",
              "  "
            ]
          },
          "metadata": {},
          "execution_count": 9
        }
      ],
      "source": [
        "df.describe()"
      ]
    },
    {
      "cell_type": "markdown",
      "source": [
        "Lets check number of numeric columns."
      ],
      "metadata": {
        "id": "T1Y8137dg9aV"
      }
    },
    {
      "cell_type": "code",
      "execution_count": 10,
      "metadata": {
        "colab": {
          "base_uri": "https://localhost:8080/"
        },
        "id": "VY06MtLb-WT8",
        "outputId": "979802a6-464c-4274-aca1-d75c994639c6"
      },
      "outputs": [
        {
          "output_type": "execute_result",
          "data": {
            "text/plain": [
              "14"
            ]
          },
          "metadata": {},
          "execution_count": 10
        }
      ],
      "source": [
        "numerics = ['int16', 'int32', 'int64', 'float16', 'float32', 'float64']\n",
        "\n",
        "numeric_df = df.select_dtypes(include=numerics)\n",
        "len(numeric_df.columns)"
      ]
    },
    {
      "cell_type": "markdown",
      "metadata": {
        "id": "QEM6L_SJAdcc"
      },
      "source": [
        "Lets calculate percentage of missing values per column."
      ]
    },
    {
      "cell_type": "code",
      "execution_count": 11,
      "metadata": {
        "colab": {
          "base_uri": "https://localhost:8080/"
        },
        "id": "P-DxObWa-WRP",
        "outputId": "1ff3b2c7-3953-464e-cad9-bdb8857af33a"
      },
      "outputs": [
        {
          "output_type": "execute_result",
          "data": {
            "text/plain": [
              "Number                   6.129003e-01\n",
              "Precipitation(in)        1.931079e-01\n",
              "Wind_Chill(F)            1.650568e-01\n",
              "Wind_Speed(mph)          5.550967e-02\n",
              "Wind_Direction           2.592834e-02\n",
              "Humidity(%)              2.568830e-02\n",
              "Weather_Condition        2.482514e-02\n",
              "Visibility(mi)           2.479350e-02\n",
              "Temperature(F)           2.434646e-02\n",
              "Pressure(in)             2.080593e-02\n",
              "Weather_Timestamp        1.783125e-02\n",
              "Airport_Code             3.356011e-03\n",
              "Timezone                 1.285961e-03\n",
              "Nautical_Twilight        1.007612e-03\n",
              "Civil_Twilight           1.007612e-03\n",
              "Sunrise_Sunset           1.007612e-03\n",
              "Astronomical_Twilight    1.007612e-03\n",
              "Zipcode                  4.635647e-04\n",
              "City                     4.814887e-05\n",
              "Street                   7.029032e-07\n",
              "Country                  0.000000e+00\n",
              "Junction                 0.000000e+00\n",
              "Start_Time               0.000000e+00\n",
              "End_Time                 0.000000e+00\n",
              "Start_Lat                0.000000e+00\n",
              "Turning_Loop             0.000000e+00\n",
              "Traffic_Signal           0.000000e+00\n",
              "Traffic_Calming          0.000000e+00\n",
              "Stop                     0.000000e+00\n",
              "Station                  0.000000e+00\n",
              "Roundabout               0.000000e+00\n",
              "Railway                  0.000000e+00\n",
              "No_Exit                  0.000000e+00\n",
              "Crossing                 0.000000e+00\n",
              "Give_Way                 0.000000e+00\n",
              "Bump                     0.000000e+00\n",
              "Amenity                  0.000000e+00\n",
              "Start_Lng                0.000000e+00\n",
              "End_Lat                  0.000000e+00\n",
              "End_Lng                  0.000000e+00\n",
              "Distance(mi)             0.000000e+00\n",
              "Description              0.000000e+00\n",
              "Severity                 0.000000e+00\n",
              "Side                     0.000000e+00\n",
              "County                   0.000000e+00\n",
              "State                    0.000000e+00\n",
              "ID                       0.000000e+00\n",
              "dtype: float64"
            ]
          },
          "metadata": {},
          "execution_count": 11
        }
      ],
      "source": [
        "missing_percentages = df.isna().sum().sort_values(ascending=False) / len(df)\n",
        "missing_percentages"
      ]
    },
    {
      "cell_type": "code",
      "source": [
        "# missing_percentages[missing_percentages!=0] keeps the rows which have non zero values."
      ],
      "metadata": {
        "id": "0u-6FQOZk-sy"
      },
      "execution_count": 12,
      "outputs": []
    },
    {
      "cell_type": "code",
      "execution_count": 13,
      "metadata": {
        "colab": {
          "base_uri": "https://localhost:8080/"
        },
        "id": "u7UxjIoqBARH",
        "outputId": "d64f2e23-0464-47bb-c164-a6d41543ec42"
      },
      "outputs": [
        {
          "output_type": "execute_result",
          "data": {
            "text/plain": [
              "pandas.core.series.Series"
            ]
          },
          "metadata": {},
          "execution_count": 13
        }
      ],
      "source": [
        "type(missing_percentages)"
      ]
    },
    {
      "cell_type": "markdown",
      "source": [
        "Lets view this as a graph. Here we prefer Bar graph over line graph because line graphs are useful for displaying smaller changes in a trend over time. Bar graphs are better for comparing larger changes or differences in data among groups."
      ],
      "metadata": {
        "id": "McFzssRtil9R"
      }
    },
    {
      "cell_type": "code",
      "execution_count": 14,
      "metadata": {
        "colab": {
          "base_uri": "https://localhost:8080/",
          "height": 282
        },
        "id": "ID8Rs0RJ93Lf",
        "outputId": "eaa537f5-06e3-43a1-a8ec-2400972f9534"
      },
      "outputs": [
        {
          "output_type": "execute_result",
          "data": {
            "text/plain": [
              "<matplotlib.axes._subplots.AxesSubplot at 0x7f78efe5e350>"
            ]
          },
          "metadata": {},
          "execution_count": 14
        },
        {
          "output_type": "display_data",
          "data": {
            "text/plain": [
              "<Figure size 432x288 with 1 Axes>"
            ],
            "image/png": "[encoded data removed]"
          },
          "metadata": {
            "needs_background": "light"
          }
        }
      ],
      "source": [
        "missing_percentages[missing_percentages != 0].plot(kind='barh')"
      ]
    },
    {
      "cell_type": "markdown",
      "metadata": {
        "id": "a84gqD0KBykW"
      },
      "source": [
        "We can remove columns that you don't want to use by dropping them."
      ]
    },
    {
      "cell_type": "markdown",
      "metadata": {
        "id": "RvM47Xfp7X36"
      },
      "source": [
        "## Exploratory Analysis and Visualization\n",
        "As its not possible to analyze all columns at the same time, you need to analyze those columns which you think might give fruitful insights.\n",
        "Lets pick numeric columns that are related to accidents.\n",
        "Lets analyze the following columns:\n",
        "\n",
        "1. City\n",
        "2. Start Time\n",
        "3. Start Lat, Start Lng\n",
        "\n",
        " "
      ]
    },
    {
      "cell_type": "code",
      "execution_count": 15,
      "metadata": {
        "colab": {
          "base_uri": "https://localhost:8080/"
        },
        "id": "uiEYZ3Q9B44q",
        "outputId": "dafd623d-4a82-4ec0-9050-0a1ab14e31a5"
      },
      "outputs": [
        {
          "output_type": "execute_result",
          "data": {
            "text/plain": [
              "Index(['ID', 'Severity', 'Start_Time', 'End_Time', 'Start_Lat', 'Start_Lng',\n",
              "       'End_Lat', 'End_Lng', 'Distance(mi)', 'Description', 'Number', 'Street',\n",
              "       'Side', 'City', 'County', 'State', 'Zipcode', 'Country', 'Timezone',\n",
              "       'Airport_Code', 'Weather_Timestamp', 'Temperature(F)', 'Wind_Chill(F)',\n",
              "       'Humidity(%)', 'Pressure(in)', 'Visibility(mi)', 'Wind_Direction',\n",
              "       'Wind_Speed(mph)', 'Precipitation(in)', 'Weather_Condition', 'Amenity',\n",
              "       'Bump', 'Crossing', 'Give_Way', 'Junction', 'No_Exit', 'Railway',\n",
              "       'Roundabout', 'Station', 'Stop', 'Traffic_Calming', 'Traffic_Signal',\n",
              "       'Turning_Loop', 'Sunrise_Sunset', 'Civil_Twilight', 'Nautical_Twilight',\n",
              "       'Astronomical_Twilight'],\n",
              "      dtype='object')"
            ]
          },
          "metadata": {},
          "execution_count": 15
        }
      ],
      "source": [
        "df.columns"
      ]
    },
    {
      "cell_type": "markdown",
      "metadata": {
        "id": "3rz2quexIZac"
      },
      "source": [
        "### City"
      ]
    },
    {
      "cell_type": "code",
      "execution_count": 16,
      "metadata": {
        "colab": {
          "base_uri": "https://localhost:8080/"
        },
        "id": "gcdVkqfpB4oK",
        "outputId": "0a76b824-1b4c-4dbf-be37-1097dcbb8d83"
      },
      "outputs": [
        {
          "output_type": "execute_result",
          "data": {
            "text/plain": [
              "0               Dublin\n",
              "1               Dayton\n",
              "2           Cincinnati\n",
              "3                Akron\n",
              "4           Cincinnati\n",
              "              ...     \n",
              "2845337      Riverside\n",
              "2845338      San Diego\n",
              "2845339         Orange\n",
              "2845340    Culver City\n",
              "2845341       Highland\n",
              "Name: City, Length: 2845342, dtype: object"
            ]
          },
          "metadata": {},
          "execution_count": 16
        }
      ],
      "source": [
        "df.City"
      ]
    },
    {
      "cell_type": "code",
      "execution_count": 17,
      "metadata": {
        "colab": {
          "base_uri": "https://localhost:8080/"
        },
        "id": "lK5ve5iWB4lI",
        "outputId": "287ab60e-588e-4e2d-b407-15d4ee403027"
      },
      "outputs": [
        {
          "output_type": "execute_result",
          "data": {
            "text/plain": [
              "11682"
            ]
          },
          "metadata": {},
          "execution_count": 17
        }
      ],
      "source": [
        "cities = df.City.unique()\n",
        "len(cities)"
      ]
    },
    {
      "cell_type": "markdown",
      "source": [
        "There are 11,682 unique cities. Lets calculate number of accidents per city."
      ],
      "metadata": {
        "id": "BkcSXLFzm3Xl"
      }
    },
    {
      "cell_type": "code",
      "execution_count": 18,
      "metadata": {
        "colab": {
          "base_uri": "https://localhost:8080/"
        },
        "id": "LmgK4XQ0B4dy",
        "outputId": "14cf7502-1aba-449e-bd65-4fa1305cea88"
      },
      "outputs": [
        {
          "output_type": "execute_result",
          "data": {
            "text/plain": [
              "Miami                           106966\n",
              "Los Angeles                      68956\n",
              "Orlando                          54691\n",
              "Dallas                           41979\n",
              "Houston                          39448\n",
              "                                 ...  \n",
              "Ridgedale                            1\n",
              "Sekiu                                1\n",
              "Wooldridge                           1\n",
              "Bullock                              1\n",
              "American Fork-Pleasant Grove         1\n",
              "Name: City, Length: 11681, dtype: int64"
            ]
          },
          "metadata": {},
          "execution_count": 18
        }
      ],
      "source": [
        "cities_by_accident = df.City.value_counts()\n",
        "cities_by_accident"
      ]
    },
    {
      "cell_type": "markdown",
      "source": [
        "Lets analyze top 20 cities with highest number of accidents. It might be possible that there are less accidents occurring in some city because of less population over there. If there was population column in the dataset, we could have calculated ----------per capita."
      ],
      "metadata": {
        "id": "9SwKW4uynvXi"
      }
    },
    {
      "cell_type": "code",
      "execution_count": 19,
      "metadata": {
        "colab": {
          "base_uri": "https://localhost:8080/"
        },
        "id": "X0nan3xu7Vtq",
        "outputId": "af433b5f-e206-4b93-979f-d924f7debb50"
      },
      "outputs": [
        {
          "output_type": "execute_result",
          "data": {
            "text/plain": [
              "Miami           106966\n",
              "Los Angeles      68956\n",
              "Orlando          54691\n",
              "Dallas           41979\n",
              "Houston          39448\n",
              "Charlotte        33152\n",
              "Sacramento       32559\n",
              "San Diego        26627\n",
              "Raleigh          22840\n",
              "Minneapolis      22768\n",
              "Portland         20944\n",
              "Nashville        20267\n",
              "Austin           18301\n",
              "Baton Rouge      18182\n",
              "Phoenix          17143\n",
              "Saint Paul       16869\n",
              "New Orleans      16251\n",
              "Atlanta          15622\n",
              "Jacksonville     14967\n",
              "Richmond         14349\n",
              "Name: City, dtype: int64"
            ]
          },
          "metadata": {},
          "execution_count": 19
        }
      ],
      "source": [
        "cities_by_accident[:20]"
      ]
    },
    {
      "cell_type": "code",
      "execution_count": 20,
      "metadata": {
        "colab": {
          "base_uri": "https://localhost:8080/"
        },
        "id": "5FLQkPvZFuF8",
        "outputId": "e047da18-8e29-4c20-f96f-221137eccaff"
      },
      "outputs": [
        {
          "output_type": "execute_result",
          "data": {
            "text/plain": [
              "pandas.core.series.Series"
            ]
          },
          "metadata": {},
          "execution_count": 20
        }
      ],
      "source": [
        "type(cities_by_accident)"
      ]
    },
    {
      "cell_type": "code",
      "execution_count": 21,
      "metadata": {
        "colab": {
          "base_uri": "https://localhost:8080/",
          "height": 282
        },
        "id": "uq4X__76EvDy",
        "outputId": "92e32e78-0b8c-495d-94b8-8bbe49c4c926"
      },
      "outputs": [
        {
          "output_type": "execute_result",
          "data": {
            "text/plain": [
              "<matplotlib.axes._subplots.AxesSubplot at 0x7f791b5d1f10>"
            ]
          },
          "metadata": {},
          "execution_count": 21
        },
        {
          "output_type": "display_data",
          "data": {
            "text/plain": [
              "<Figure size 432x288 with 1 Axes>"
            ],
            "image/png": "[encoded data removed]"
          },
          "metadata": {
            "needs_background": "light"
          }
        }
      ],
      "source": [
        "cities_by_accident[:20].plot(kind='barh')"
      ]
    },
    {
      "cell_type": "markdown",
      "source": [
        "\n",
        "Lets look at the distribution whether lot of cities have small number of accidents or  high number of accidents. \n",
        "To get such a distribution, plotting Histogram is the best."
      ],
      "metadata": {
        "id": "fXYKut0aqhd5"
      }
    },
    {
      "cell_type": "code",
      "execution_count": 22,
      "metadata": {
        "id": "IarEBz5OEvAn"
      },
      "outputs": [],
      "source": [
        "import seaborn as sns\n",
        "sns.set_style(\"darkgrid\")"
      ]
    },
    {
      "cell_type": "code",
      "source": [
        "sns.distplot(cities_by_accident)"
      ],
      "metadata": {
        "colab": {
          "base_uri": "https://localhost:8080/",
          "height": 351
        },
        "id": "Kg7-vXV2tnEM",
        "outputId": "7769f3fb-8497-46a1-9978-2be97d462ed0"
      },
      "execution_count": 23,
      "outputs": [
        {
          "output_type": "stream",
          "name": "stderr",
          "text": [
            "/usr/local/lib/python3.7/dist-packages/seaborn/distributions.py:2619: FutureWarning: `distplot` is a deprecated function and will be removed in a future version. Please adapt your code to use either `displot` (a figure-level function with similar flexibility) or `histplot` (an axes-level function for histograms).\n",
            "  warnings.warn(msg, FutureWarning)\n"
          ]
        },
        {
          "output_type": "execute_result",
          "data": {
            "text/plain": [
              "<matplotlib.axes._subplots.AxesSubplot at 0x7f7924988cd0>"
            ]
          },
          "metadata": {},
          "execution_count": 23
        },
        {
          "output_type": "display_data",
          "data": {
            "text/plain": [
              "<Figure size 432x288 with 1 Axes>"
            ],
            "image/png": "[encoded data removed]"
          },
          "metadata": {}
        }
      ]
    },
    {
      "cell_type": "code",
      "source": [
        "high_accident_cities = cities_by_accident[ cities_by_accident >= 1000]\n",
        "low_accident_cities = cities_by_accident[ cities_by_accident < 1000]"
      ],
      "metadata": {
        "id": "7nv0TZX7tsoR"
      },
      "execution_count": 24,
      "outputs": []
    },
    {
      "cell_type": "code",
      "source": [
        "len(high_accident_cities) / len(cities)"
      ],
      "metadata": {
        "colab": {
          "base_uri": "https://localhost:8080/"
        },
        "id": "VqRq5IRTuY23",
        "outputId": "2a2779c6-cabc-4da5-ff9f-9ba4ccf29745"
      },
      "execution_count": 25,
      "outputs": [
        {
          "output_type": "execute_result",
          "data": {
            "text/plain": [
              "0.04245848313644924"
            ]
          },
          "metadata": {},
          "execution_count": 25
        }
      ]
    },
    {
      "cell_type": "markdown",
      "source": [
        "Less than 5% of cities have more than 1000 yearly accidents."
      ],
      "metadata": {
        "id": "jKw4gIDhvGdc"
      }
    },
    {
      "cell_type": "code",
      "source": [
        "sns.distplot(high_accident_cities)"
      ],
      "metadata": {
        "colab": {
          "base_uri": "https://localhost:8080/",
          "height": 351
        },
        "id": "ElG1ZLwQvRPG",
        "outputId": "a4621f43-f3cb-4830-b4fa-d4c54d329a64"
      },
      "execution_count": 26,
      "outputs": [
        {
          "output_type": "stream",
          "name": "stderr",
          "text": [
            "/usr/local/lib/python3.7/dist-packages/seaborn/distributions.py:2619: FutureWarning: `distplot` is a deprecated function and will be removed in a future version. Please adapt your code to use either `displot` (a figure-level function with similar flexibility) or `histplot` (an axes-level function for histograms).\n",
            "  warnings.warn(msg, FutureWarning)\n"
          ]
        },
        {
          "output_type": "execute_result",
          "data": {
            "text/plain": [
              "<matplotlib.axes._subplots.AxesSubplot at 0x7f78d30ce090>"
            ]
          },
          "metadata": {},
          "execution_count": 26
        },
        {
          "output_type": "display_data",
          "data": {
            "text/plain": [
              "<Figure size 432x288 with 1 Axes>"
            ],
            "image/png": "[encoded data removed]"
          },
          "metadata": {}
        }
      ]
    },
    {
      "cell_type": "code",
      "source": [
        "sns.distplot(low_accident_cities)"
      ],
      "metadata": {
        "colab": {
          "base_uri": "https://localhost:8080/",
          "height": 351
        },
        "id": "z-pAXXFHv9pi",
        "outputId": "6c41c40f-65d3-4787-844b-4efa5e847fa1"
      },
      "execution_count": 27,
      "outputs": [
        {
          "output_type": "stream",
          "name": "stderr",
          "text": [
            "/usr/local/lib/python3.7/dist-packages/seaborn/distributions.py:2619: FutureWarning: `distplot` is a deprecated function and will be removed in a future version. Please adapt your code to use either `displot` (a figure-level function with similar flexibility) or `histplot` (an axes-level function for histograms).\n",
            "  warnings.warn(msg, FutureWarning)\n"
          ]
        },
        {
          "output_type": "execute_result",
          "data": {
            "text/plain": [
              "<matplotlib.axes._subplots.AxesSubplot at 0x7f78d2f96fd0>"
            ]
          },
          "metadata": {},
          "execution_count": 27
        },
        {
          "output_type": "display_data",
          "data": {
            "text/plain": [
              "<Figure size 432x288 with 1 Axes>"
            ],
            "image/png": "[encoded data removed]"
          },
          "metadata": {}
        }
      ]
    },
    {
      "cell_type": "markdown",
      "source": [
        "Both are exponentially decreasing kind of graphs. Seems like number of accidents per city seems to follow some sort of exponential distribution. So we can use a Logarithmic scale."
      ],
      "metadata": {
        "id": "l5LnzSLGv9Ja"
      }
    },
    {
      "cell_type": "code",
      "execution_count": 28,
      "metadata": {
        "colab": {
          "base_uri": "https://localhost:8080/",
          "height": 300
        },
        "id": "kCuWqfPCFnSu",
        "outputId": "9b009ccf-2ad6-4a9e-ea53-ed0afead8eda"
      },
      "outputs": [
        {
          "output_type": "execute_result",
          "data": {
            "text/plain": [
              "<matplotlib.axes._subplots.AxesSubplot at 0x7f78d2ed79d0>"
            ]
          },
          "metadata": {},
          "execution_count": 28
        },
        {
          "output_type": "display_data",
          "data": {
            "text/plain": [
              "<Figure size 432x288 with 1 Axes>"
            ],
            "image/png": "[encoded data removed]"
          },
          "metadata": {}
        }
      ],
      "source": [
        "sns.histplot(cities_by_accident, log_scale=True)"
      ]
    },
    {
      "cell_type": "markdown",
      "source": [
        "Maybe some part of the data is missing so we got here that lot of cities have 0 accidents and that's wrong. Around 1100 cities have no data or maybe they are cities with number of accidents as 1.\n",
        "Between 0 to 100 is where major chunk of the data falls."
      ],
      "metadata": {
        "id": "jbxhRJDjrviV"
      }
    },
    {
      "cell_type": "code",
      "execution_count": 29,
      "metadata": {
        "colab": {
          "base_uri": "https://localhost:8080/"
        },
        "id": "j8GBvN1XHeKL",
        "outputId": "2ffabb50-18c0-495d-dac6-f17c7de879d0"
      },
      "outputs": [
        {
          "output_type": "execute_result",
          "data": {
            "text/plain": [
              "Carney                          1\n",
              "Waverly Hall                    1\n",
              "Center Sandwich                 1\n",
              "Glen Flora                      1\n",
              "Sulphur Springs                 1\n",
              "                               ..\n",
              "Ridgedale                       1\n",
              "Sekiu                           1\n",
              "Wooldridge                      1\n",
              "Bullock                         1\n",
              "American Fork-Pleasant Grove    1\n",
              "Name: City, Length: 1110, dtype: int64"
            ]
          },
          "metadata": {},
          "execution_count": 29
        }
      ],
      "source": [
        "cities_by_accident[cities_by_accident == 1]"
      ]
    },
    {
      "cell_type": "markdown",
      "source": [
        "Over 1000 cities have reported just one accident."
      ],
      "metadata": {
        "id": "FBVjao7K0uCp"
      }
    },
    {
      "cell_type": "markdown",
      "metadata": {
        "id": "23vI2-8iIUui"
      },
      "source": [
        "### Start Time"
      ]
    },
    {
      "cell_type": "code",
      "execution_count": 30,
      "metadata": {
        "colab": {
          "base_uri": "https://localhost:8080/"
        },
        "id": "juz0_WHIILWU",
        "outputId": "4698080d-b19e-4af4-9612-dc99bd00bd17"
      },
      "outputs": [
        {
          "output_type": "execute_result",
          "data": {
            "text/plain": [
              "0          2016-02-08 00:37:08\n",
              "1          2016-02-08 05:56:20\n",
              "2          2016-02-08 06:15:39\n",
              "3          2016-02-08 06:51:45\n",
              "4          2016-02-08 07:53:43\n",
              "                  ...         \n",
              "2845337    2019-08-23 18:03:25\n",
              "2845338    2019-08-23 19:11:30\n",
              "2845339    2019-08-23 19:00:21\n",
              "2845340    2019-08-23 19:00:21\n",
              "2845341    2019-08-23 18:52:06\n",
              "Name: Start_Time, Length: 2845342, dtype: object"
            ]
          },
          "metadata": {},
          "execution_count": 30
        }
      ],
      "source": [
        "df.Start_Time"
      ]
    },
    {
      "cell_type": "code",
      "execution_count": 31,
      "metadata": {
        "id": "a7R3_lA2ILTc"
      },
      "outputs": [],
      "source": [
        "# Lets change the string to date\n",
        "df.Start_Time = pd.to_datetime(df.Start_Time)"
      ]
    },
    {
      "cell_type": "code",
      "execution_count": 33,
      "metadata": {
        "colab": {
          "base_uri": "https://localhost:8080/",
          "height": 352
        },
        "id": "V_XF4vTdHeHb",
        "outputId": "f4348a74-6dd1-41c0-ad36-c61a178947ce"
      },
      "outputs": [
        {
          "output_type": "stream",
          "name": "stderr",
          "text": [
            "/usr/local/lib/python3.7/dist-packages/seaborn/distributions.py:2619: FutureWarning: `distplot` is a deprecated function and will be removed in a future version. Please adapt your code to use either `displot` (a figure-level function with similar flexibility) or `histplot` (an axes-level function for histograms).\n",
            "  warnings.warn(msg, FutureWarning)\n"
          ]
        },
        {
          "output_type": "execute_result",
          "data": {
            "text/plain": [
              "<matplotlib.axes._subplots.AxesSubplot at 0x7f7922bc4ed0>"
            ]
          },
          "metadata": {},
          "execution_count": 33
        },
        {
          "output_type": "display_data",
          "data": {
            "text/plain": [
              "<Figure size 432x288 with 1 Axes>"
            ],
            "image/png": "[encoded data removed]"
          },
          "metadata": {}
        }
      ],
      "source": [
        "# norm hist gives percentage and not count\n",
        "sns.distplot(df.Start_Time.dt.hour, bins=24, kde=False, norm_hist=True)"
      ]
    },
    {
      "cell_type": "markdown",
      "metadata": {
        "id": "i6RsW8PZK1nY"
      },
      "source": [
        "- A high percentage of accidents occur between 2 pm to 7 pm."
      ]
    },
    {
      "cell_type": "markdown",
      "source": [
        "Let's find out which day of the week had more number of accidents has occurred."
      ],
      "metadata": {
        "id": "GVZRhdQ_5d1S"
      }
    },
    {
      "cell_type": "code",
      "execution_count": 34,
      "metadata": {
        "colab": {
          "base_uri": "https://localhost:8080/",
          "height": 352
        },
        "id": "adct6zrOJS4j",
        "outputId": "5b6e885c-5c26-45b8-e48f-ec7b6a69e3c3"
      },
      "outputs": [
        {
          "output_type": "stream",
          "name": "stderr",
          "text": [
            "/usr/local/lib/python3.7/dist-packages/seaborn/distributions.py:2619: FutureWarning: `distplot` is a deprecated function and will be removed in a future version. Please adapt your code to use either `displot` (a figure-level function with similar flexibility) or `histplot` (an axes-level function for histograms).\n",
            "  warnings.warn(msg, FutureWarning)\n"
          ]
        },
        {
          "output_type": "execute_result",
          "data": {
            "text/plain": [
              "<matplotlib.axes._subplots.AxesSubplot at 0x7f78d2b59d50>"
            ]
          },
          "metadata": {},
          "execution_count": 34
        },
        {
          "output_type": "display_data",
          "data": {
            "text/plain": [
              "<Figure size 432x288 with 1 Axes>"
            ],
            "image/png": "[encoded data removed]"
          },
          "metadata": {}
        }
      ],
      "source": [
        "sns.distplot(df.Start_Time.dt.dayofweek, bins=7, kde=False, norm_hist=True)"
      ]
    },
    {
      "cell_type": "markdown",
      "metadata": {
        "id": "xIMI1CEeL_vs"
      },
      "source": [
        "Number of accidents is lower on weekends compared to week days."
      ]
    },
    {
      "cell_type": "code",
      "execution_count": 35,
      "metadata": {
        "colab": {
          "base_uri": "https://localhost:8080/",
          "height": 352
        },
        "id": "BJiZUABzJS16",
        "outputId": "1f4e420f-21b6-4c9e-cf97-be1cba5dd400"
      },
      "outputs": [
        {
          "output_type": "stream",
          "name": "stderr",
          "text": [
            "/usr/local/lib/python3.7/dist-packages/seaborn/distributions.py:2619: FutureWarning: `distplot` is a deprecated function and will be removed in a future version. Please adapt your code to use either `displot` (a figure-level function with similar flexibility) or `histplot` (an axes-level function for histograms).\n",
            "  warnings.warn(msg, FutureWarning)\n"
          ]
        },
        {
          "output_type": "execute_result",
          "data": {
            "text/plain": [
              "<matplotlib.axes._subplots.AxesSubplot at 0x7f78d2ac7410>"
            ]
          },
          "metadata": {},
          "execution_count": 35
        },
        {
          "output_type": "display_data",
          "data": {
            "text/plain": [
              "<Figure size 432x288 with 1 Axes>"
            ],
            "image/png": "[encoded data removed]"
          },
          "metadata": {}
        }
      ],
      "source": [
        "sundays_start_time = df.Start_Time[df.Start_Time.dt.dayofweek == 6]\n",
        "sns.distplot(sundays_start_time.dt.hour, bins=24, kde=False, norm_hist=True)"
      ]
    },
    {
      "cell_type": "markdown",
      "source": [
        "Most accidents occured during the afternoon time on Sundays"
      ],
      "metadata": {
        "id": "kFllDYYt64EH"
      }
    },
    {
      "cell_type": "code",
      "execution_count": 38,
      "metadata": {
        "colab": {
          "base_uri": "https://localhost:8080/",
          "height": 352
        },
        "id": "q4AEgnRKEAMS",
        "outputId": "4a1bfd70-4489-41f3-95e9-31d6960fd778"
      },
      "outputs": [
        {
          "output_type": "stream",
          "name": "stderr",
          "text": [
            "/usr/local/lib/python3.7/dist-packages/seaborn/distributions.py:2619: FutureWarning: `distplot` is a deprecated function and will be removed in a future version. Please adapt your code to use either `displot` (a figure-level function with similar flexibility) or `histplot` (an axes-level function for histograms).\n",
            "  warnings.warn(msg, FutureWarning)\n"
          ]
        },
        {
          "output_type": "execute_result",
          "data": {
            "text/plain": [
              "<matplotlib.axes._subplots.AxesSubplot at 0x7f78d286aed0>"
            ]
          },
          "metadata": {},
          "execution_count": 38
        },
        {
          "output_type": "display_data",
          "data": {
            "text/plain": [
              "<Figure size 432x288 with 1 Axes>"
            ],
            "image/png": "[encoded data removed]"
          },
          "metadata": {}
        }
      ],
      "source": [
        "monday_start_time = df.Start_Time[df.Start_Time.dt.dayofweek == 0]\n",
        "sns.distplot(monday_start_time.dt.hour, bins=24, kde=False, norm_hist=True)"
      ]
    },
    {
      "cell_type": "markdown",
      "source": [
        "Lets look at the month wise trend."
      ],
      "metadata": {
        "id": "EwApAXRl7qUe"
      }
    },
    {
      "cell_type": "code",
      "source": [
        "sns.distplot(df.Start_Time.dt.month, bins=12, kde=False, norm_hist=True)"
      ],
      "metadata": {
        "colab": {
          "base_uri": "https://localhost:8080/",
          "height": 352
        },
        "id": "xA8-lB6z7pYU",
        "outputId": "ed1a149d-d1bc-44a4-f5bd-952c66e4e649"
      },
      "execution_count": 39,
      "outputs": [
        {
          "output_type": "stream",
          "name": "stderr",
          "text": [
            "/usr/local/lib/python3.7/dist-packages/seaborn/distributions.py:2619: FutureWarning: `distplot` is a deprecated function and will be removed in a future version. Please adapt your code to use either `displot` (a figure-level function with similar flexibility) or `histplot` (an axes-level function for histograms).\n",
            "  warnings.warn(msg, FutureWarning)\n"
          ]
        },
        {
          "output_type": "execute_result",
          "data": {
            "text/plain": [
              "<matplotlib.axes._subplots.AxesSubplot at 0x7f78d2820d50>"
            ]
          },
          "metadata": {},
          "execution_count": 39
        },
        {
          "output_type": "display_data",
          "data": {
            "text/plain": [
              "<Figure size 432x288 with 1 Axes>"
            ],
            "image/png": "[encoded data removed]"
          },
          "metadata": {}
        }
      ]
    },
    {
      "cell_type": "markdown",
      "metadata": {
        "id": "8zGtl75mNd2d"
      },
      "source": [
        "More number of accidents took place in the last months of the year."
      ]
    },
    {
      "cell_type": "markdown",
      "source": [
        "Month-wise trend in a particular year:"
      ],
      "metadata": {
        "id": "eBaz-cDI8_dB"
      }
    },
    {
      "cell_type": "code",
      "source": [
        "df_2018 = df[df.Start_Time.dt.year == 2018]\n",
        "sns.distplot(df_2018.Start_Time.dt.month, bins=12, kde=False, norm_hist=True)"
      ],
      "metadata": {
        "colab": {
          "base_uri": "https://localhost:8080/",
          "height": 352
        },
        "id": "OjTkF9vt9HOP",
        "outputId": "2cc6413f-9f84-4893-bf19-8d2cf0ca9b5c"
      },
      "execution_count": 47,
      "outputs": [
        {
          "output_type": "stream",
          "name": "stderr",
          "text": [
            "/usr/local/lib/python3.7/dist-packages/seaborn/distributions.py:2619: FutureWarning: `distplot` is a deprecated function and will be removed in a future version. Please adapt your code to use either `displot` (a figure-level function with similar flexibility) or `histplot` (an axes-level function for histograms).\n",
            "  warnings.warn(msg, FutureWarning)\n"
          ]
        },
        {
          "output_type": "execute_result",
          "data": {
            "text/plain": [
              "<matplotlib.axes._subplots.AxesSubplot at 0x7f78d2414710>"
            ]
          },
          "metadata": {},
          "execution_count": 47
        },
        {
          "output_type": "display_data",
          "data": {
            "text/plain": [
              "<Figure size 432x288 with 1 Axes>"
            ],
            "image/png": "[encoded data removed]"
          },
          "metadata": {}
        }
      ]
    },
    {
      "cell_type": "markdown",
      "metadata": {
        "id": "uxJ8j-L3Pips"
      },
      "source": [
        "### Start Latitude & Longitude\n"
      ]
    },
    {
      "cell_type": "code",
      "execution_count": 48,
      "metadata": {
        "colab": {
          "base_uri": "https://localhost:8080/"
        },
        "id": "SaHT2yIhPhqs",
        "outputId": "f4bf9522-e595-4e0d-d490-b63a2452376d"
      },
      "outputs": [
        {
          "output_type": "execute_result",
          "data": {
            "text/plain": [
              "0          40.108910\n",
              "1          39.865420\n",
              "2          39.102660\n",
              "3          41.062130\n",
              "4          39.172393\n",
              "             ...    \n",
              "2845337    34.002480\n",
              "2845338    32.766960\n",
              "2845339    33.775450\n",
              "2845340    33.992460\n",
              "2845341    34.133930\n",
              "Name: Start_Lat, Length: 2845342, dtype: float64"
            ]
          },
          "metadata": {},
          "execution_count": 48
        }
      ],
      "source": [
        "df.Start_Lat"
      ]
    },
    {
      "cell_type": "code",
      "execution_count": 49,
      "metadata": {
        "colab": {
          "base_uri": "https://localhost:8080/"
        },
        "id": "OACwujEyPhn_",
        "outputId": "3ebdfbbf-7860-453a-e2c8-f86c88b41ca2"
      },
      "outputs": [
        {
          "output_type": "execute_result",
          "data": {
            "text/plain": [
              "0          -83.092860\n",
              "1          -84.062800\n",
              "2          -84.524680\n",
              "3          -81.537840\n",
              "4          -84.492792\n",
              "              ...    \n",
              "2845337   -117.379360\n",
              "2845338   -117.148060\n",
              "2845339   -117.847790\n",
              "2845340   -118.403020\n",
              "2845341   -117.230920\n",
              "Name: Start_Lng, Length: 2845342, dtype: float64"
            ]
          },
          "metadata": {},
          "execution_count": 49
        }
      ],
      "source": [
        "df.Start_Lng"
      ]
    },
    {
      "cell_type": "code",
      "execution_count": 50,
      "metadata": {
        "id": "4tEvL_RQPhlq"
      },
      "outputs": [],
      "source": [
        "# as the data is large, let's create a 10% sample\n",
        "sample_df = df.sample(int(0.1 * len(df)))"
      ]
    },
    {
      "cell_type": "code",
      "execution_count": 51,
      "metadata": {
        "colab": {
          "base_uri": "https://localhost:8080/",
          "height": 299
        },
        "id": "gkh8yL4UPhi-",
        "outputId": "45f9b1db-39b9-4e02-e8e0-724e9b7947c9"
      },
      "outputs": [
        {
          "output_type": "execute_result",
          "data": {
            "text/plain": [
              "<matplotlib.axes._subplots.AxesSubplot at 0x7f78d22fbf10>"
            ]
          },
          "metadata": {},
          "execution_count": 51
        },
        {
          "output_type": "display_data",
          "data": {
            "text/plain": [
              "<Figure size 432x288 with 1 Axes>"
            ],
            "image/png": "[encoded data removed]"
          },
          "metadata": {}
        }
      ],
      "source": [
        "sns.scatterplot(x=sample_df.Start_Lng, y=sample_df.Start_Lat, size=0.001)"
      ]
    },
    {
      "cell_type": "markdown",
      "source": [
        "Let's represent this in a world Map."
      ],
      "metadata": {
        "id": "yRx6UCIY_peO"
      }
    },
    {
      "cell_type": "code",
      "execution_count": 56,
      "metadata": {
        "id": "2b_dBVyR7EHl"
      },
      "outputs": [],
      "source": [
        "import folium"
      ]
    },
    {
      "cell_type": "code",
      "execution_count": 53,
      "metadata": {
        "colab": {
          "base_uri": "https://localhost:8080/"
        },
        "id": "vuLp9BOxRLci",
        "outputId": "a529af46-5824-476b-8af5-2d024239cd28"
      },
      "outputs": [
        {
          "output_type": "execute_result",
          "data": {
            "text/plain": [
              "(40.10891, -83.09286)"
            ]
          },
          "metadata": {},
          "execution_count": 53
        }
      ],
      "source": [
        "#lat, lon = df.Start_Lat[0], df.Start_Lng[0]\n",
        "#lat, lon"
      ]
    },
    {
      "cell_type": "code",
      "execution_count": 54,
      "metadata": {
        "colab": {
          "base_uri": "https://localhost:8080/"
        },
        "id": "Y8ZNqcFVRt81",
        "outputId": "90628b77-e751-4529-9ebb-1d1ae241d000"
      },
      "outputs": [
        {
          "output_type": "stream",
          "name": "stdout",
          "text": [
            "2016305    37.586642\n",
            "2564886    45.577220\n",
            "1380344    37.073665\n",
            "1796194    39.050770\n",
            "2229638    30.436970\n",
            "             ...    \n",
            "1008074    34.018181\n",
            "393022     38.990143\n",
            "2449924    37.952547\n",
            "1186589    27.771059\n",
            "1999669    34.157019\n",
            "Name: Start_Lat, Length: 100, dtype: float64\n",
            "2016305    -77.474287\n",
            "2564886   -122.666333\n",
            "1380344   -121.989045\n",
            "1796194    -78.244484\n",
            "2229638    -84.261780\n",
            "              ...    \n",
            "1008074   -118.278702\n",
            "393022     -77.427511\n",
            "2449924   -121.275063\n",
            "1186589    -82.663047\n",
            "1999669   -118.379348\n",
            "Name: Start_Lng, Length: 100, dtype: float64\n"
          ]
        }
      ],
      "source": [
        "#for x in df[['Start_Lat', 'Start_Lng']].sample(100).iteritems():\n",
        "    #print(x[1])"
      ]
    },
    {
      "cell_type": "code",
      "execution_count": 61,
      "metadata": {
        "colab": {
          "base_uri": "https://localhost:8080/"
        },
        "id": "d1vWEMf-Sxeq",
        "outputId": "5c477e51-abe9-4db1-82c8-407606535b5e"
      },
      "outputs": [
        {
          "output_type": "execute_result",
          "data": {
            "text/plain": [
              "<zip at 0x7f78d0d1f910>"
            ]
          },
          "metadata": {},
          "execution_count": 61
        }
      ],
      "source": [
        "# list(df.Start_Lat), list(df.Start_Lng) means list of latitudes and list pf longitudes.\n",
        "zip(list(df.Start_Lat), list(df.Start_Lng))"
      ]
    },
    {
      "cell_type": "code",
      "execution_count": 58,
      "metadata": {
        "id": "ODtfSEc6TN7B"
      },
      "outputs": [],
      "source": [
        "from folium.plugins import HeatMap"
      ]
    },
    {
      "cell_type": "code",
      "execution_count": 59,
      "metadata": {
        "id": "vDG1zJnzTbW2"
      },
      "outputs": [],
      "source": [
        "sample_df = df.sample(int(0.001 * len(df)))\n",
        "lat_lon_pairs = list(zip(list(sample_df.Start_Lat), list(sample_df.Start_Lng)))"
      ]
    },
    {
      "cell_type": "code",
      "execution_count": 60,
      "metadata": {
        "colab": {
          "base_uri": "https://localhost:8080/",
          "height": 583
        },
        "id": "hJ2mH2FiQ8Wf",
        "outputId": "0092ce17-1d37-4845-ac74-4b352e8a0321"
      },
      "outputs": [
        {
          "output_type": "execute_result",
          "data": {
            "text/plain": [
              "<folium.folium.Map at 0x7f78baae3a90>"
            ],
            "text/html": [
              "<div style=\"width:100%;\"><div style=\"position:relative;width:100%;height:0;padding-bottom:60%;\"><span style=\"color:#565656\">Make this Notebook Trusted to load map: File -> Trust Notebook</span><iframe srcdoc=\"&lt;!DOCTYPE html&gt;\n",
              "&lt;head&gt;    \n",
              "    &lt;meta http-equiv=&quot;content-type&quot; content=&quot;text/html; charset=UTF-8&quot; /&gt;\n",
              "    \n",
              "        &lt;script&gt;\n",
              "            L_NO_TOUCH = false;\n",
              "            L_DISABLE_3D = false;\n",
              "        &lt;/script&gt;\n",
              "    \n",
              "    &lt;style&gt;html, body {width: 100%;height: 100%;margin: 0;padding: 0;}&lt;/style&gt;\n",
              "    &lt;style&gt;#map {position:absolute;top:0;bottom:0;right:0;left:0;}&lt;/style&gt;\n",
              "    &lt;script src=&quot;https://cdn.jsdelivr.net/npm/leaflet@1.6.0/dist/leaflet.js&quot;&gt;&lt;/script&gt;\n",
              "    &lt;script src=&quot;https://code.jquery.com/jquery-1.12.4.min.js&quot;&gt;&lt;/script&gt;\n",
              "    &lt;script src=&quot;https://maxcdn.bootstrapcdn.com/bootstrap/3.2.0/js/bootstrap.min.js&quot;&gt;&lt;/script&gt;\n",
              "    &lt;script src=&quot;https://cdnjs.cloudflare.com/ajax/libs/Leaflet.awesome-markers/2.0.2/leaflet.awesome-markers.js&quot;&gt;&lt;/script&gt;\n",
              "    &lt;link rel=&quot;stylesheet&quot; href=&quot;https://cdn.jsdelivr.net/npm/leaflet@1.6.0/dist/leaflet.css&quot;/&gt;\n",
              "    &lt;link rel=&quot;stylesheet&quot; href=&quot;https://maxcdn.bootstrapcdn.com/bootstrap/3.2.0/css/bootstrap.min.css&quot;/&gt;\n",
              "    &lt;link rel=&quot;stylesheet&quot; href=&quot;https://maxcdn.bootstrapcdn.com/bootstrap/3.2.0/css/bootstrap-theme.min.css&quot;/&gt;\n",
              "    &lt;link rel=&quot;stylesheet&quot; href=&quot;https://maxcdn.bootstrapcdn.com/font-awesome/4.6.3/css/font-awesome.min.css&quot;/&gt;\n",
              "    &lt;link rel=&quot;stylesheet&quot; href=&quot;https://cdnjs.cloudflare.com/ajax/libs/Leaflet.awesome-markers/2.0.2/leaflet.awesome-markers.css&quot;/&gt;\n",
              "    &lt;link rel=&quot;stylesheet&quot; href=&quot;https://cdn.jsdelivr.net/gh/python-visualization/folium/folium/templates/leaflet.awesome.rotate.min.css&quot;/&gt;\n",
              "    \n",
              "            &lt;meta name=&quot;viewport&quot; content=&quot;width=device-width,\n",
              "                initial-scale=1.0, maximum-scale=1.0, user-scalable=no&quot; /&gt;\n",
              "            &lt;style&gt;\n",
              "                #map_9968765d5322351cc15476123b39c1f2 {\n",
              "                    position: relative;\n",
              "                    width: 100.0%;\n",
              "                    height: 100.0%;\n",
              "                    left: 0.0%;\n",
              "                    top: 0.0%;\n",
              "                }\n",
              "            &lt;/style&gt;\n",
              "        \n",
              "    &lt;script src=&quot;https://cdn.jsdelivr.net/gh/python-visualization/folium@master/folium/templates/leaflet_heat.min.js&quot;&gt;&lt;/script&gt;\n",
              "&lt;/head&gt;\n",
              "&lt;body&gt;    \n",
              "    \n",
              "            &lt;div class=&quot;folium-map&quot; id=&quot;map_9968765d5322351cc15476123b39c1f2&quot; &gt;&lt;/div&gt;\n",
              "        \n",
              "&lt;/body&gt;\n",
              "&lt;script&gt;    \n",
              "    \n",
              "            var map_9968765d5322351cc15476123b39c1f2 = L.map(\n",
              "                &quot;map_9968765d5322351cc15476123b39c1f2&quot;,\n",
              "                {\n",
              "                    center: [0, 0],\n",
              "                    crs: L.CRS.EPSG3857,\n",
              "                    zoom: 1,\n",
              "                    zoomControl: true,\n",
              "                    preferCanvas: false,\n",
              "                }\n",
              "            );\n",
              "\n",
              "            \n",
              "\n",
              "        \n",
              "    \n",
              "            var tile_layer_e6657ac50b055eda958abf75e295ca0f = L.tileLayer(\n",
              "                &quot;https://{s}.tile.openstreetmap.org/{z}/{x}/{y}.png&quot;,\n",
              "                {&quot;attribution&quot;: &quot;Data by \\u0026copy; \\u003ca href=\\&quot;http://openstreetmap.org\\&quot;\\u003eOpenStreetMap\\u003c/a\\u003e, under \\u003ca href=\\&quot;http://www.openstreetmap.org/copyright\\&quot;\\u003eODbL\\u003c/a\\u003e.&quot;, &quot;detectRetina&quot;: false, &quot;maxNativeZoom&quot;: 18, &quot;maxZoom&quot;: 18, &quot;minZoom&quot;: 0, &quot;noWrap&quot;: false, &quot;opacity&quot;: 1, &quot;subdomains&quot;: &quot;abc&quot;, &quot;tms&quot;: false}\n",
              "            ).addTo(map_9968765d5322351cc15476123b39c1f2);\n",
              "        \n",
              "    \n",
              "            var heat_map_95acccbaf6409d20065d2309c96ec648 = L.heatLayer(\n",
              "                [[39.733615, -75.40601], [37.34448, -121.845143], [35.190068, -84.895841], [35.213724, -80.835769], [28.449924, -81.479136], [30.380942, -84.235989], [30.262190000000004, -97.88885], [35.011599, -81.904021], [40.625821, -111.902693], [36.264689, -86.7375], [34.054551000000004, -118.209396], [34.857171, -82.26418199999998], [39.797374, -86.102375], [30.884335, -87.078056], [37.86748, -121.638388], [25.45706, -80.475107], [39.77287000000001, -105.17474], [27.073085, -80.246433], [34.06369, -117.81538], [34.807468, -82.380045], [37.794106, -120.969091], [32.705928, -97.320479], [38.671507, -121.895008], [32.793847, -96.792491], [41.90567, -87.96884], [39.53662, -119.80668], [36.759648, -76.32836800000003], [42.22037, -71.03585], [44.181477, -93.949185], [47.508929, -121.883644], [35.79027, -119.250615], [29.71419, -95.394568], [37.40674, -122.189567], [41.928434, -124.147633], [38.587066, -78.59145500000002], [37.34723, -121.85912], [39.411667, -76.663437], [45.687006, -121.70973700000002], [37.890075, -121.602322], [28.502236, -80.838185], [33.956025, -118.109325], [38.984577, -76.579309], [34.892578, -118.914993], [35.33108499999999, -80.740324], [43.95715, -121.05255], [39.29479, -76.89972], [30.011397, -90.012863], [34.01767, -117.52449], [36.695192, -76.728515], [44.895234, -93.349935], [28.555439, -81.413969], [33.488062, -117.296632], [38.317671, -123.02772], [34.029302, -118.18477], [33.974252, -79.12521], [37.126655, -77.35911], [37.954385, -122.548479], [26.667393, -81.914784], [47.52251, -92.562657], [34.2183, -118.47314], [33.166787, -87.535831], [38.52402, -77.371124], [32.819132, -97.060251], [42.65995, -124.41125], [29.697349, -81.326134], [25.760881, -80.420136], [27.97070200000001, -82.453374], [34.068657, -117.346697], [33.604754, -117.69048], [35.696457, -77.97483000000003], [38.449064, -77.40728399999998], [41.115292, -74.108136], [27.46238, -82.58761], [34.185601, -118.473805], [39.08735, -122.79348799999998], [33.95278, -118.043289], [34.337540999999995, -118.513648], [36.140601, -86.732024], [31.765884000000003, -106.482931], [40.484563, -77.761664], [39.097628, -94.573432], [37.774954, -122.395583], [41.746683, -72.734854], [30.301699, -81.770315], [27.873553, -82.326775], [45.574029, -93.581001], [40.029784, -76.289276], [25.684871, -80.400574], [40.834657, -74.17926899999998], [35.352744, -119.034409], [32.336669, -95.326142], [40.592295, -80.518279], [33.859144, -118.289419], [35.845432, -78.680284], [25.954565, -80.240534], [38.94971500000001, -77.036364], [37.42570900000001, -121.883969], [45.825594, -109.963456], [32.20641, -110.8411], [41.113446, -73.54255500000002], [34.310388, -118.43207], [38.012448, -122.271662], [33.79057, -118.09925], [34.021894, -117.810655], [29.644165, -95.50923], [41.850561, -87.93741800000002], [42.15297, -87.88374], [35.803111, -78.399665], [41.39012, -88.19296], [37.60729, -122.06507], [33.356176, -117.530525], [39.19132000000001, -76.753], [35.802873, -78.408755], [38.897258, -77.439053], [37.141114, -80.35391], [42.36147, -83.07294], [33.223587, -81.060241], [34.173483000000004, -118.553464], [38.730305, -120.763913], [39.32407, -120.564597], [30.008138, -90.027511], [28.418722, -81.439337], [40.19782, -82.91322], [39.057172, -122.781437], [44.971107, -93.455318], [37.858975, -121.218541], [37.685305, -122.130333], [34.11331, -118.267218], [29.69173, -95.28362], [40.9151, -75.1019], [34.06234, -118.00018], [32.718713, -117.147921], [28.157512, -82.484101], [28.565227, -81.17381999999998], [36.788331, -119.856365], [32.796562, -96.720428], [40.122478, -75.048307], [40.1348, -111.64699], [34.201241, -79.78474], [29.410468, -82.110206], [45.957513, -95.312692], [45.391601, -93.87529], [43.09223, -75.263696], [37.452195, -77.367313], [29.62802000000001, -98.23485], [38.37573, -89.77662], [39.124299, -80.38602900000002], [40.697712, -111.901919], [27.355963, -82.513908], [43.60047, -116.57298], [33.67088, -117.82654], [32.883914000000004, -117.228187], [34.034174, -118.723765], [33.796144, -84.394751], [46.628798, -113.080419], [36.768478, -121.743103], [47.61958, -122.32865], [39.967475, -75.582033], [30.467153000000003, -91.130847], [37.253847, -121.090669], [45.914794, -112.374333], [39.906039, -75.193917], [32.836, -96.606], [25.85586, -80.32247], [38.590085, -121.75248899999998], [36.755038, -80.781442], [36.772313, -119.760107], [33.963913, -117.324977], [29.778714, -95.377928], [40.85159, -73.95260999999998], [40.691589, -74.161373], [34.662052, -82.173346], [35.235974, -80.819725], [32.934211, -117.236856], [29.593522, -95.457111], [33.994039, -117.904198], [34.063923, -117.268293], [25.871918, -80.339039], [35.34948400000001, -119.039419], [25.642714, -80.334553], [34.115752, -78.977391], [34.019303, -117.362541], [32.461525, -93.867447], [37.73165, -112.27909], [36.60724, -120.58893], [34.222378000000006, -119.136183], [35.26189799999999, -78.674217], [39.112732, -121.637291], [35.108198, -85.145143], [38.58922800000001, -121.382928], [26.512654, -80.172522], [32.446264, -93.916915], [41.85109, -87.6454], [32.995597, -117.253313], [33.38568, -111.880892], [38.959216, -85.83450500000002], [38.909643, -77.049323], [47.478865, -92.871927], [32.907539, -96.729608], [45.057882, -123.679136], [25.97112000000001, -80.16575999999998], [25.889511, -80.162851], [34.05503, -118.45335], [36.860047, -121.771132], [30.47458, -83.88396999999998], [34.00826, -117.73075], [34.980264, -119.76384], [34.053344, -117.987249], [36.06445, -80.26389], [33.181069, -117.339917], [29.679104, -95.432943], [33.934482, -84.162236], [44.064624, -123.528613], [35.25976, -80.87469], [32.349321, -111.026488], [33.829915, -117.287701], [37.317202, -121.94032], [30.446077, -91.236999], [36.8274, -76.195198], [32.862348, -96.937718], [34.15573, -118.42777], [39.12746, -84.4895], [43.29233, -71.57316999999998], [33.48411, -82.20474], [42.20677, -88.70551999999998], [34.49382, -118.27995], [37.826539, -121.193083], [32.88792, -96.70506], [33.509179, -112.203172], [40.199714, -74.591234], [39.286084, -76.553669], [43.128043, -77.52149399999998], [37.825381, -122.291167], [25.685165, -80.419593], [39.332009, -94.717415], [33.778166, -117.86739], [30.37928, -97.681867], [42.199994, -87.86287800000002], [39.301797, -76.742752], [40.775531, -74.202722], [41.80596, -112.33031], [25.869344, -80.20740699999998], [45.279192, -118.031767], [40.332073, -75.381387], [45.035845, -92.883428], [37.54572, -77.39522], [41.554988, -90.52888], [32.25066, -110.89312], [39.9816, -78.79113000000002], [38.59027800000001, -121.259656], [44.853819, -93.395129], [40.39572, -123.435049], [33.196616, -117.031002], [41.921607, -88.03779399999998], [38.025645, -122.112017], [39.92467, -75.19282199999998], [45.61751, -119.46942], [26.547712, -81.839322], [34.440364, -119.76905], [40.733818, -122.942912], [48.03133, -122.75656], [32.391222, -95.267899], [41.550821, -72.813902], [26.775749, -80.097928], [40.643137, -78.780888], [38.135594, -77.509478], [37.54799000000001, -77.44808], [45.694884, -121.287696], [40.718766, -73.791067], [30.459636, -91.052612], [38.698404, -120.079161], [36.833117, -76.129237], [33.3857, -111.93489], [37.16969, -77.350813], [32.752276, -96.766352], [33.423789, -111.891355], [28.599275, -81.414342], [36.004242, -86.626714], [32.837604, -97.049296], [29.16248400000001, -81.53503], [27.98435, -82.45384], [34.15772800000001, -117.659641], [25.917488, -80.209908], [34.185613000000004, -118.317786], [30.532368, -87.231114], [38.891798, -77.062394], [41.61514, -72.89695], [40.085173, -74.93133900000002], [38.527291, -121.37023700000002], [25.736808, -80.319627], [40.16521, -111.64684], [41.418488, -73.42445500000002], [33.462227, -112.421497], [34.731442, -120.235888], [32.789535, -117.148921], [26.02809, -80.16566999999998], [35.431714, -82.534926], [36.150361, -86.69780899999998], [26.923745, -80.1489], [36.69284, -119.69996], [25.594721, -80.380882], [41.25064, -112.01744], [33.736492, -78.93109799999998], [38.315217, -77.476866], [33.645619, -117.86026499999998], [38.371928, -121.476312], [35.306708, -80.852148], [34.903290000000005, -82.185187], [33.85304, -117.81185], [25.868275, -80.240464], [29.733599, -95.146435], [42.86074, -84.90861], [39.979685, -76.199415], [28.495118, -81.45908], [39.093581, -84.812663], [32.69047800000001, -96.846717], [33.545583, -86.587682], [40.138524, -75.112234], [41.54016, -73.7653], [39.79839000000001, -104.86597], [33.309825, -111.828488], [35.060835, -80.953424], [34.16692800000001, -118.38332], [33.500704, -117.151499], [45.167838, -123.144669], [34.26767, -118.48476], [35.979098, -86.575108], [35.092188, -80.875371], [41.18504, -74.038], [42.15355, -87.961], [39.228206, -123.768745], [46.267219, -106.477788], [38.202989, -121.133652], [39.556325, -119.789769], [44.693208, -121.071535], [32.759662, -97.028389], [28.451646000000004, -81.47449399999998], [40.73993400000001, -74.080586], [34.046147999999995, -118.269335], [40.608354, -74.182766], [30.28063400000001, -95.458022], [34.11853, -117.84169], [25.699599, -80.382101], [47.53745, -122.33474], [33.804325, -118.20734], [41.49764, -111.968754], [25.966722, -80.16575300000002], [33.916293, -118.104641], [34.845611, -81.952835], [37.866581, -121.637619], [36.824637, -77.955218], [38.004702, -121.257487], [32.797672, -97.212332], [28.99325300000001, -81.294698], [25.902458, -80.29225100000002], [44.972788, -93.400637], [33.929078999999994, -117.439356], [25.689146, -80.38287199999998], [39.553611, -77.73734], [39.301797, -76.742752], [37.297465, -80.08434799999998], [34.081595, -118.300452], [25.588787, -80.359162], [40.169425, -75.22215], [36.806441, -76.360677], [28.512128000000004, -81.397072], [34.028490000000005, -118.2297], [37.347527, -77.351168], [35.20305, -80.72399999999998], [34.014913, -118.16917], [37.257267, -121.7941], [38.383025, -81.597749], [33.51937, -117.621385], [44.37285, -95.9099], [41.67353, -72.84772], [34.151592, -118.235685], [35.16267, -80.73938000000003], [40.08189, -82.85885], [32.198663, -86.415592], [33.781774, -117.998178], [34.0048, -84.5646], [39.104858, -77.544347], [40.709318, -74.185517], [37.66048, -122.103881], [28.466366, -81.46472299999998], [48.337593, -114.318176], [42.68977, -83.24898], [43.154398, -77.657686], [36.034501, -86.783334], [40.764758, -111.92915], [47.597953, -122.329089], [43.161023, -77.753924], [25.887977, -80.186364], [34.358668, -94.377103], [43.673876, -94.42757], [34.0386, -81.093847], [33.821992, -117.876258], [32.66142, -117.07806], [30.398951, -91.109072], [45.42255, -122.63343], [28.551894, -81.492329], [33.990441, -118.068949], [43.730346, -116.4628], [25.892069, -80.186589], [33.812661, -118.343788], [37.798298, -122.274597], [39.655376, -76.65589200000002], [40.00627100000001, -75.667254], [40.081353, -75.38799399999998], [33.87654000000001, -118.10733], [37.336117, -121.936913], [35.131283, -80.842153], [34.06736, -117.43113999999998], [28.117964, -80.706053], [40.146232, -75.394696], [39.833711, -105.016883], [33.887683, -98.577951], [38.465037, -121.414381], [28.751132, -81.266195], [40.233317, -74.951037], [33.042158, -96.789404], [40.638481, -112.046395], [44.90309, -93.13798], [38.504278, -106.328094], [40.915134, -73.849111], [34.93574, -82.00945], [41.565533, -93.862048], [38.663961, -121.229654], [36.265772, -77.723454], [45.30985, -121.79137], [37.42519, -122.173055], [39.290789, -121.838754], [38.557425, -77.340265], [38.333991, -77.497676], [32.857664, -96.87329], [26.61882, -80.14674000000002], [34.062574, -80.922257], [30.419632, -91.185643], [37.60735800000001, -77.361012], [37.26237, -81.12097], [46.17291, -123.75662], [32.724931, -117.103092], [39.529892, -119.715346], [39.294387, -120.98603500000002], [34.02685, -118.429908], [39.5019, -76.226014], [37.353666, -120.503545], [37.07898, -78.70639200000002], [34.020201, -118.18298], [25.946316, -80.148619], [37.954045, -122.373653], [44.850054, -93.49021], [33.46253, -112.20977], [38.717955, -90.44678], [38.63809000000001, -90.44647], [25.783415, -80.23309], [36.746157, -119.776634], [38.642052, -121.380607], [27.817594, -82.638703], [47.2309, -122.443495], [28.048628000000004, -82.45496800000002], [36.025385, -86.632622], [27.7772, -82.69989], [30.48972, -91.16538], [37.326981, -108.124311], [34.042734, -81.116456], [39.39187, -74.56631999999998], [34.004252, -118.063549], [40.661485, -111.805686], [33.916418, -118.267908], [25.671236, -80.401164], [34.997215000000004, -85.208613], [29.738227, -95.305744], [45.595225, -117.747398], [32.832558, -117.164783], [42.29286, -71.48479], [34.02518, -118.20527], [38.168182, -79.125354], [41.198942, -87.04513], [39.011822, -121.104299], [39.900221, -104.988178], [33.9285, -118.290329], [34.229933, -117.415856], [39.330164, -77.67654], [34.856024, -82.267738], [34.417549, -77.951367], [25.81183, -80.337363], [32.751870000000004, -97.21847], [37.36061, -121.90502], [29.39606, -98.49404], [25.580995, -80.372262], [42.88809000000001, -78.76771], [28.4846, -81.24114], [39.877693, -77.382768], [35.391881, -97.516672], [26.526129, -81.871103], [43.238911, -77.623836], [41.99015, -87.72863000000002], [37.764022, -122.216843], [34.081583, -117.723011], [34.226085999999995, -118.375669], [41.551719, -73.033343], [40.936249, -87.220242], [32.221668, -110.917493], [33.991005, -118.368918], [38.221797, -122.12782], [47.393131, -115.424274], [33.592361, -117.24207], [32.89561, -96.47574], [45.903906, -108.259183], [39.100004, -104.770664], [25.685129, -80.42075600000003], [43.05232, -76.1252], [35.74132, -78.78563], [28.337866, -81.489243], [38.56382, -121.375163], [45.37801, -122.10539], [39.065033, -76.644176], [40.354768, -122.283335], [37.63491, -122.0869], [44.867798, -93.350317], [33.773789, -117.991521], [43.02566, -77.66843], [39.1532, -84.53919], [38.208159, -122.184598], [25.668353, -80.322839], [36.776337, -76.250846], [34.966381, -119.73573], [28.484021, -81.45898299999998], [48.496718, -122.269243], [39.76358, -75.51589], [36.32564, -86.70604], [30.251807, -81.460374], [33.870795, -117.740212], [41.201613, -76.814973], [42.963705, -78.767371], [32.21644000000001, -110.825533], [41.55906, -87.74333], [39.601398, -121.662717], [28.26073400000001, -81.485949], [40.828041, -73.934834], [42.168099, -88.067222], [26.575074, -81.604855], [37.364318, -121.901866], [33.961583000000005, -80.467734], [36.06576, -79.31539000000002], [35.400577, -119.038313], [37.071779, -113.584396], [33.0725, -96.82444], [36.749619, -120.006187], [38.864361, -76.993893], [34.06571, -89.90847], [26.136734, -80.1695], [38.81193, -77.18685], [41.237192, -77.00289000000002], [27.880668, -82.816039], [45.49918, -122.672814], [37.918232, -78.549953], [37.36458, -121.90176], [25.598341, -80.381026], [36.43343, -120.39187], [38.020488, -84.51340400000002], [29.72523, -95.46022], [39.69565, -75.39986], [30.21083, -81.51371999999998], [30.314247, -81.655997], [33.15252, -117.2012], [45.333301, -93.001391], [31.797647, -85.982478], [29.802871000000003, -95.488395], [43.46838, -87.94057], [32.531319, -93.764812], [46.089872, -122.939861], [33.876192, -118.130569], [32.78443, -96.7914], [32.235895, -110.980662], [33.861897, -117.773732], [37.316765, -121.946062], [36.8464, -75.99852], [32.339821, -95.273858], [28.610797, -81.469143], [34.035131, -118.333579], [40.21218, -76.87643], [42.92589, -85.41879499999997], [39.567202, -121.609979], [33.133555, -117.124586], [40.338292, -75.469499], [33.87053, -78.626694], [42.113325, -122.131521], [35.664343, -78.700469], [38.829002, -77.633379], [38.765143, -120.55652], [41.69352, -87.65964], [39.0988, -94.60964], [30.377746, -97.52788], [38.88164, -121.968487], [40.88445, -123.959952], [32.235894, -110.981519], [25.927231, -80.293364], [33.879464, -117.61406], [33.982369, -118.280407], [33.917651, -118.273851], [43.163622, -77.601965], [35.839238, -78.675899], [28.408204, -81.44808], [42.48085, -88.20408], [37.739335, -121.59082], [34.404913, -79.331282], [26.559373, -81.74290500000002], [38.607891, -121.382898], [34.034136, -118.350206], [35.89941, -84.172601], [35.10374, -81.62153], [32.67728, -97.0703], [33.60545, -112.24962], [28.451321000000004, -81.45925799999998], [47.58331, -122.17669], [36.29135, -120.267516], [37.383481, -122.06936], [36.84073, -119.928463], [27.44033, -82.57542], [30.137966, -85.74955], [45.662334, -118.786587], [34.27630300000001, -82.126761], [38.763993, -122.983221], [33.458018, -80.730012], [37.742859, -122.198211], [30.65678, -87.90515], [36.705465, -120.151311], [34.818698, -82.2768], [37.054318, -120.364752], [34.49386, -118.616641], [40.745877, -73.836246], [29.059475, -95.454168], [40.70245, -73.81647], [34.26583, -118.463282], [38.617886, -121.389402], [34.430326, -117.377361], [32.797054, -96.810418], [25.690596, -80.30639599999998], [38.47415, -121.42281], [25.717112, -80.33022700000002], [34.265566, -118.976747], [32.321437, -111.045823], [27.86447, -82.38505], [34.06899, -118.46328], [41.206138, -112.02581200000002], [37.701423, -121.856078], [35.11786, -88.2566], [34.147915000000005, -118.03261299999998], [39.02522, -77.046149], [39.533818, -119.756952], [41.26823, -81.61796], [30.575802000000003, -87.293095], [33.246844, -111.941311], [33.552104, -117.717774], [40.03849, -76.30136999999998], [35.261386, -80.79517], [38.19806, -85.70369000000002], [40.44092, -80.01942], [40.01325900000001, -75.17996600000002], [25.803514, -80.20586800000002], [33.132909999999995, -117.08641], [37.231464, -93.275196], [40.845262, -73.927777], [25.809773, -80.289292], [44.83684, -93.39858], [42.437673, -122.839256], [40.57431500000001, -74.638728], [44.63939, -118.44578], [37.732032, -122.419726], [30.246831, -92.818132], [39.76003, -105.65292], [34.664263, -80.751541], [45.265953, -122.781398], [33.871945000000004, -117.70008500000002], [37.698728, -120.994491], [31.349283000000003, -87.086209], [45.58159600000001, -122.767007], [28.071674, -82.73900400000002], [42.305904, -93.569428], [38.258347, -122.062261], [39.92645, -79.8844], [43.16661, -73.71408000000002], [33.567404, -112.228616], [32.833381, -96.612964], [25.597721, -80.378199], [42.366959, -73.446267], [34.65967, -118.363119], [43.849971, -123.02155], [37.155901, -121.655141], [44.499746, -117.370322], [27.470689, -82.562984], [33.638465000000004, -117.171074], [41.153592, -74.189161], [32.810966, -96.806691], [43.02021, -83.684188], [26.546433, -81.84977099999998], [35.958176, -82.55806], [34.170668, -118.60581100000002], [39.870702, -84.902343], [28.385739, -81.50255200000002], [36.10317, -80.23619000000002], [37.59809, -121.95008], [43.124702, -77.699838], [34.272303, -118.352929], [35.807651, -78.599184], [40.531089, -111.89184], [34.751152000000005, -86.75497800000002], [25.880138, -80.355719], [40.428925, -79.93943], [44.995461, -93.349274], [40.119786, -75.357427], [38.803126, -77.251626], [33.307031, -111.911206], [43.153241, -77.610452], [38.636638, -77.290266], [37.50433, -77.65486700000002], [37.348546, -79.987249], [40.896694, -124.029718], [25.9271, -80.22164000000002], [40.399583, -78.712136], [37.032491, -122.137311], [33.610321, -112.314101], [37.107497, -119.691574], [29.954384, -90.084902], [40.728387, -73.88418], [39.413626, -77.435386], [34.265972999999995, -118.453776], [32.442015000000005, -93.755854], [38.768938, -76.994869], [39.05619, -77.08246], [41.324806, -76.959226], [33.991005, -118.368918], [39.97859, -82.9763], [41.185298, -73.193226], [39.101928, -121.634444], [33.849381, -117.875243], [28.25814500000001, -81.615963], [39.475526, -76.27210699999998], [32.843653, -86.59515999999998], [37.768667, -122.153924], [35.34734500000001, -111.562785], [38.816317, -77.220937], [45.01046, -93.089529], [37.243047, -121.809058], [34.219182, -117.410448], [32.77275, -96.91519], [32.686287, -117.179738], [28.863474, -81.291389], [33.876465, -118.099822], [32.795216, -96.814832], [25.879935, -80.357455], [36.75963, -121.75489], [32.950688, -96.73468], [34.015557, -118.239657], [28.491688, -81.430767], [25.686033, -80.398689], [34.240425, -81.155403], [29.737299, -95.522173], [41.82147, -87.72892], [41.78322, -87.63155], [44.618149, -117.4963], [40.94196, -122.43548], [41.258136, -123.322552], [41.94325, -71.47194], [34.778997, -82.418287], [29.841451, -95.489365], [39.022351, -122.486899], [34.021715, -80.94613000000003], [38.907512, -78.500093], [37.32104, -121.89006], [38.905977, -76.939751], [39.01528, -77.031503], [47.891862, -101.292913], [40.78834000000001, -73.48508000000002], [33.825727, -118.2066], [34.68097, -118.16309], [33.064599, -111.800772], [28.41442, -81.341454], [32.91317, -117.11613], [41.15142700000001, -73.830324], [33.901403, -117.828655], [41.534382, -75.526317], [26.009505, -80.207592], [40.58113, -79.56725], [31.498326, -82.201477], [41.255887, -72.996199], [33.805367, -80.972762], [44.80012, -93.28996], [28.643878000000004, -81.813822], [30.657978000000004, -87.936774], [44.970385, -93.322032], [40.04003, -76.28735], [34.070423, -117.400255], [47.7341, -122.331224], [45.566832, -122.678512], [39.959904, -75.17902600000002], [29.715668, -81.657708], [39.394812, -120.025178], [45.84303900000001, -95.383933], [32.76379, -96.93981], [34.202091, -117.152006], [38.934527, -94.420977], [45.57947, -122.67868], [35.001740000000005, -80.85558], [35.027823, -80.96504499999998], [45.633376, -108.788069], [41.078466, -87.151576], [39.683806, -78.970366], [29.007544, -82.330348], [40.74545, -111.94911], [40.228393, -75.282157], [38.549346, -121.474052], [35.849949, -78.579598], [38.906166, -77.012642], [35.057998, -85.138346], [27.949379, -82.52699], [33.9165, -84.284588], [38.606894, -121.401486], [32.366867, -86.138251], [40.784522, -111.911963], [42.05918, -88.04041], [42.957453, -85.705842], [45.27025, -123.01972], [37.70154, -121.86729], [39.414857, -77.434977], [35.120041, -81.800854], [40.694549, -111.79639], [40.103548, -75.085739], [35.20362, -80.74851], [45.587407, -122.773783], [27.237555, -80.34444], [36.06095300000001, -95.853289], [26.126745, -80.169507], [42.145771, -88.518325], [26.029239, -80.165616], [36.048734, -83.41863000000002], [37.182333, -93.301602], [26.19735, -98.20434], [33.94504000000001, -118.0993], [43.00876, -83.678687], [41.45959000000001, -82.02079], [30.366998, -85.43826700000002], [32.60832, -117.09055], [25.809255, -80.318322], [44.08033, -93.5655], [34.956881, -120.508447], [38.832454, -94.848864], [43.010563, -83.67863], [41.008195, -82.91556700000002], [41.46355, -72.832735], [34.820596, -118.166893], [33.77878, -117.89466000000002], [28.08810900000001, -82.457572], [42.669256, -84.544032], [37.9297, -122.32376], [41.81731, -71.3981], [34.120714, -117.872639], [34.065113000000004, -117.315397], [39.969403, -75.588443], [38.670681, -121.327223], [39.09708, -94.54792], [31.77792, -106.46285], [39.09032, -94.48728], [41.47709, -78.36879300000003], [32.780770000000004, -96.78397], [33.856741, -118.011263], [45.83775900000001, -95.151141], [33.70985, -84.24579], [34.03167, -118.42697], [43.06169000000001, -76.14491], [40.306853, -76.886669], [25.642714, -80.334553], [45.779653, -94.091881], [45.191305, -122.839411], [33.925757, -118.368526], [41.14435, -75.9631], [42.926267, -85.671536], [38.661042, -121.355488], [35.314397, -80.75715600000002], [41.244741, -77.02700300000002], [36.135767, -86.698449], [34.992329999999995, -117.541558], [25.932617, -80.121894], [41.856247, -124.076639], [38.714312, -121.392379], [47.87967, -122.23621], [39.12504000000001, -84.55332], [25.886049, -80.12264], [39.143067, -77.00067299999998], [40.331117, -122.404461], [27.29257, -82.44809000000002], [36.038243, -86.786324], [47.674022, -117.245804], [44.153597, -93.257235], [25.865389, -80.20853100000002], [41.139884, -112.026022], [45.601319, -122.541364], [26.84698, -80.12985], [27.965408, -82.420517], [42.75043400000001, -84.50796], [31.87751, -84.49863], [36.547147, -119.646767], [34.020129, -118.210441], [42.443221, -83.431559], [25.948629, -80.35169], [42.932341, -88.162032], [45.092426, -92.965719], [37.411032, -77.579451], [29.984094, -90.068903], [34.095393, -118.814445], [33.68008, -93.613482], [42.505792, -84.85205699999999], [35.16259, -80.73958], [40.976461, -73.69984000000002], [25.879404, -80.356367], [25.702162, -80.336089], [47.33054, -122.15917], [43.41477, -87.86440999999998], [38.95243, -76.86225], [35.486112, -80.874713], [30.2602, -97.755359], [42.48999, -83.05398000000002], [34.090672, -117.302001], [34.591715, -82.547656], [37.59531, -77.49901], [25.640577, -80.335561], [30.098966, -81.500025], [34.071081, -93.121694], [36.822191, -119.718414], [37.465608, -120.82704], [34.120323, -83.730866], [36.14891400000001, -86.746577], [37.328154, -121.111046], [45.673052, -120.830436], [33.019897, -80.123329], [41.83507, -93.92969], [40.096701, -122.377103], [39.045, -95.67184], [34.13064, -117.92973], [40.82627, -73.85970999999998], [35.969249, -78.867727], [40.163746, -75.486166], [45.60235, -94.39243], [33.901769, -118.372163], [32.76458, -96.77416], [33.92477, -118.10397], [33.943194, -117.871874], [38.641311, -77.28833900000002], [34.115848, -81.199182], [34.765474, -118.798909], [33.75777, -117.85779], [40.490222, -74.301388], [37.780342, -120.99621], [38.405823, -122.699624], [40.166885, -79.736708], [29.964641, -90.072966], [28.428665, -81.406997], [40.529047, -74.34957800000002], [38.996626, -94.78123], [29.751081, -95.410716], [34.07893, -118.22752], [35.76898, -78.7271], [38.362341, -122.77818], [39.19043, -84.2628], [39.744563, -122.013349], [35.116855, -81.064497], [33.505547, -112.095617], [34.06312, -117.225976], [34.356061, -117.859514], [32.906509, -96.89966], [42.861054, -85.679114], [45.541553, -122.477318], [41.783309, -123.064948], [37.803873, -122.232722], [34.285404, -119.163615], [28.478931, -81.449558], [40.01867100000001, -76.742236], [39.616624, -111.861859], [38.596836, -121.415255], [41.494486, -73.160736], [34.067321, -117.527845], [39.94217, -74.20881999999997], [40.381131, -79.054058], [40.739065, -120.709994], [27.820976, -82.729519], [34.12586, -81.424726], [34.664579, -83.041115], [37.556135, -120.82738], [38.245865, -122.625714], [28.595921, -81.307105], [44.97054, -93.28763], [32.129721999999994, -111.028923], [33.67357, -117.88613], [40.64732, -74.5252], [39.83781, -84.480714], [28.357378000000004, -81.494599], [38.571087, -121.468045], [36.2131, -86.8724], [33.856333, -93.36026], [44.92199, -95.79862], [28.330905, -82.677656], [37.686682, -122.115607], [40.78384000000001, -73.54295], [38.5231, -121.447583], [34.151987, -118.13225], [45.14282, -93.2793], [30.438598, -81.72443], [27.22947000000001, -82.494555], [27.829854, -82.72854699999998], [30.701218, -97.651988], [29.9139, -95.55615], [35.180945, -84.9112], [34.060825, -83.95409699999998], [34.21876, -119.06408], [44.07766, -123.04731], [29.995034000000004, -90.105184], [33.46213, -112.05922], [35.17651, -80.87588000000002], [32.900307, -96.71769], [32.7388, -83.72180999999998], [37.798707, -122.27517], [39.218477, -76.726895], [38.988341, -77.524158], [34.072412, -117.295457], [39.919263, -74.946101], [29.679468, -95.44498], [38.679248, -123.427205], [25.861247, -80.209616], [38.827196, -78.58013000000003], [34.175108, -118.392866], [41.65035, -93.6201], [35.585347, -77.224101], [25.807948, -80.277371], [38.038261, -78.75263000000002], [34.043706, -117.953652], [37.580977, -122.036444], [33.88496, -84.46943], [33.21901, -111.80651], [39.163839, -112.220652], [25.733344, -80.328693], [33.886793, -118.104268], [38.05112800000001, -78.701584], [29.9516, -95.41792], [34.717718, -92.342187], [39.483942, -77.617785], [26.683312, -80.163706], [40.71399, -111.786285], [40.217419, -79.609851], [42.04867, -84.358244], [45.374754, -122.755451], [45.890393, -95.888378], [38.672143, -77.245999], [38.123336, -122.27277], [33.95384, -118.17076000000002], [38.662443, -121.22571], [45.37215, -122.5908], [25.56393, -80.33071899999999], [39.467486, -76.410421], [30.393453000000004, -97.727739], [45.442569, -93.369005], [41.74746, -87.62487], [42.964598, -83.801998], [33.36294, -112.1692], [29.70423, -95.27579], [32.09802, -81.14038000000002], [45.2304, -123.86126000000002], [30.488702000000004, -91.16602], [36.092753, -86.839763], [36.06628, -79.47180300000002], [29.767604, -95.362096], [38.87968, -94.79245], [35.191999, -119.540319], [32.670790000000004, -117.11145], [38.891519, -121.196286], [40.103927, -76.30541099999998], [43.588908, -116.374505], [42.278126, -83.783959], [32.710459, -117.147747], [38.963901, -76.86720600000002], [40.65308, -112.036334], [34.263568, -119.244693], [29.731428, -95.522555], [37.312306, -121.94061299999998], [35.234145, -80.835585], [43.208561, -79.029411], [42.293763, -75.411106], [38.333927, -111.024323], [43.370226, -121.736792], [33.68325, -117.87605], [34.583166, -118.343323], [40.85024, -73.94506], [40.851604, -73.952048], [38.790761, -77.515443], [40.975495, -122.432981], [34.033552, -118.436254], [38.86211, -78.53256800000003], [37.5188, -77.46222], [25.947533, -80.14745699999997], [34.044162, -117.945785], [40.241321, -75.302406], [38.411716, -121.271968], [34.067440000000005, -117.56364], [33.876719, -118.187766], [42.30934, -87.89228], [45.069512, -93.297454], [41.003172, -76.816627], [38.928261, -76.899908], [44.8345, -93.16298], [47.60934, -122.3251], [34.528415, -117.430319], [32.65756, -117.08212], [25.809433, -80.315273], [25.631032, -80.36635799999998], [35.032323, -85.318732], [25.942296, -80.30827], [34.028201, -81.281438], [37.673237, -122.099866], [39.211221, -76.65106800000002], [38.564452, -121.470894], [34.818512, -82.276886], [33.98751, -117.36321], [43.137192, -75.276801], [33.774428, -78.797597], [40.810458, -74.097651], [30.011049, -90.086323], [37.8354, -122.484646], [34.83482, -82.29711], [39.045783, -94.49989], [25.714569, -80.414261], [37.80857, -122.24208], [38.716656, -121.364371], [25.628105, -80.341342], [38.330379, -122.020829], [41.488647, -87.320246], [37.362804, -121.843058], [29.993548, -90.049491], [40.745211, -111.948827], [37.63603, -121.55698], [40.64687, -74.57203], [34.017873, -118.489484], [42.928498, -78.766185], [33.997532, -117.367624], [40.67314, -73.80145], [34.133658000000004, -117.955307], [28.76173, -81.36151], [34.077586, -117.217448], [33.582025, -112.104352], [39.68946, -105.08149], [37.726279, -122.446041], [30.491452, -84.50435300000002], [35.165367, -78.70949399999998], [40.359308, -78.889049], [36.842449, -76.084714], [32.842126, -97.337697], [34.85187, -80.775249], [43.25035, -72.44371], [33.46278, -112.16351], [44.777869, -93.559182], [37.23876, -79.218867], [29.6771, -95.54046], [36.78258, -76.23732], [36.8305, -76.30465], [39.3454, -120.17202], [25.862123, -80.1893], [37.36548, -121.90501], [43.100815, -77.629538], [43.04343, -78.98886999999998], [44.047983, -94.171951], [38.988643, -76.883236], [44.47187, -93.29053], [44.206935, -93.262284], [40.974648, -73.707293], [38.134757, -122.685731], [37.56386, -122.30626], [39.667779, -75.60226999999998], [35.78838, -78.64288], [35.388993, -119.044646], [32.84048, -97.31405], [38.7718, -121.25129], [33.916499, -118.081731], [33.241161, -111.937331], [38.61412, -121.04547], [29.703812, -95.573408], [32.74651, -117.19138], [43.586958, -116.267827], [35.801325, -78.470849], [36.79317800000001, -119.700244], [34.095076, -78.08930500000002], [25.499314, -80.44618299999998], [30.698341, -85.131298], [32.717353, -96.916163], [46.066346, -123.916197], [34.15166, -118.14337], [34.071918, -117.89419], [37.70227, -121.74506], [41.72984, -88.12984], [37.209919, -93.237455], [38.822204, -77.440354], [47.055488, -109.511088], [33.918258, -117.880944], [27.475867, -82.587701], [44.966158, -93.251134], [39.03739, -77.41486], [42.309325, -88.190289], [32.586523, -82.366839], [34.078471, -118.228599], [28.550567, -81.41385], [25.62374800000001, -80.414429], [34.16907, -118.59438], [37.873356, -122.511584], [42.803968, -74.018036], [36.884505, -76.223409], [35.376689, -90.279407], [30.413479, -91.076875], [41.82325, -87.72465], [28.026829, -82.189314], [35.081109999999995, -89.87569], [40.11693, -75.2786], [30.361956, -81.553151], [29.71795, -95.31968], [26.69487800000001, -81.798754], [30.538739, -91.017894], [38.809386, -77.491647], [25.598341, -80.381026], [38.406243, -77.43164], [34.4471, -82.23105600000002], [39.96749000000001, -83.06063], [45.288489, -122.972248], [38.600575, -77.31381999999998], [40.197569, -74.66811700000002], [32.960066999999995, -96.915024], [34.114024, -117.823956], [33.39853, -111.89131], [25.81465, -80.240527], [44.06218, -123.01347], [36.143517, -86.794387], [26.136093, -81.766594], [33.836531, -117.331097], [37.927991, -121.232124], [25.942283, -80.333564], [41.92919000000001, -83.41168], [39.270619, -76.65645], [42.40631, -82.95625], [35.666687, -78.546508], [34.11753, -117.85069], [34.020239000000004, -117.814957], [34.16132, -118.29315], [41.04509, -73.56432], [43.71939, -83.971498], [28.663837, -80.849925], [40.987243, -76.642861], [29.82761, -82.06058], [25.946635, -80.148646], [28.607547, -81.307707], [33.774473, -118.07828], [38.778343, -111.481506], [34.044473, -81.081773], [33.908303000000004, -117.882817], [39.584035, -77.636213], [33.452309, -86.743122], [27.464577, -82.575429], [34.797595, -92.302697], [25.86639, -80.20825], [36.141774, -86.633414], [37.85432, -122.22035], [36.691193, -120.060679], [37.405501, -121.910022], [33.73879, -117.82886], [38.729978, -85.81216500000002], [38.940616, -77.544859], [42.26728, -84.61752], [28.486758, -81.42279599999998], [41.82042, -88.20378000000002], [34.02187, -117.99054], [34.02582, -117.782181], [33.933516, -117.55621], [32.77616, -117.13526], [38.960122, -77.086554], [45.786143, -119.33849], [45.56351, -122.559989], [41.795641, -88.32763800000002], [37.81478, -122.29991], [29.814257, -95.462339], [35.569297, -78.34262], [36.310338, -86.686634], [38.078904, -122.233045], [42.922266, -85.666449], [35.80638, -78.810292], [38.873501, -121.560574], [34.0818, -117.72237], [34.716303, -82.255811], [34.222744, -118.473555], [33.755997, -117.85121], [33.937615, -117.123581], [38.654934, -77.536793], [38.87826, -104.94336], [25.928778, -80.185366], [33.81041, -118.08157], [35.519179, -80.84085], [41.97486, -88.22277], [37.269176, -121.947115], [42.39197, -83.0042], [35.345278, -80.73625200000002], [36.12295, -96.39585], [34.024314000000004, -117.11136100000002], [37.553706, -77.482117], [37.07850300000001, -77.36081300000002], [33.5575, -117.19679], [34.364681, -119.036369], [33.875862, -118.164227], [39.14213, -76.81813299999997], [33.907928000000005, -81.224864], [45.196993, -93.55726], [39.413301, -76.605087], [44.128684, -123.196125], [34.06651, -117.330492], [29.026521, -82.172539], [45.322347, -122.769523], [33.945498, -118.291904], [44.52561, -122.90708], [34.120436, -118.271244], [35.30505, -80.85837], [33.912144, -118.177517], [39.224601, -76.518552], [41.23398, -73.78841], [33.943586, -117.285349], [40.362358, -122.278638], [33.719494, -117.795211], [41.841419, -122.920392], [28.531124, -81.396294], [37.253383, -121.944154], [39.81215, -86.1798], [28.275856, -82.482637], [37.91406, -122.06648], [34.17437, -118.39219], [38.817197, -121.30405], [37.824412, -122.26851], [41.151043, -111.934764], [35.08859, -85.32441], [40.736817, -73.599298], [32.66433, -97.33372], [38.125036, -112.63249], [40.466244, -75.867088], [37.553406, -122.29631], [40.939764, -111.411303], [37.764022, -122.216843], [28.611233, -81.45254200000002], [38.25643, -122.30337], [29.004811, -82.150159], [33.46109000000001, -80.73359], [36.228846, -86.732912], [40.864764, -124.115744], [38.52917, -90.40404], [39.376627, -123.492078], [34.871302, -120.468218], [32.96118, -96.72705], [39.957014, -75.15545], [29.782455, -95.359232], [37.313067, -122.287823], [39.5734, -104.98842], [34.489137, -118.286294], [38.872132, -76.967251], [39.83912, -75.40878000000002], [30.387812, -87.07974899999998], [37.82494000000001, -122.31361], [34.086835, -118.303272], [38.922444, -104.71973], [33.878197, -117.26633], [37.879202, -122.184816], [34.106598, -117.847808], [28.568682, -81.224011], [43.02436, -83.699371], [38.343929, -77.487616], [38.285887, -122.300761], [25.714343, -80.41640100000002], [38.61768, -121.370895], [41.19505, -77.299987], [39.20086, -77.266277], [40.77373, -73.67335], [34.084719, -117.300848], [44.52601, -93.296338], [34.031781, -118.18978], [38.014121, -84.45777199999998], [34.034184, -118.10854], [25.810741, -80.343273], [38.608237, -109.604838], [33.044551, -117.208774], [41.42368, -73.35788000000002], [37.217849, -77.388092], [34.23010900000001, -119.171976], [40.44375, -74.42642], [36.712521, -110.216292], [38.575047, -121.573207], [33.057919, -80.170415], [33.974083, -118.223817], [35.849668, -78.58221], [39.89642, -75.10838000000003], [39.02868, -84.53452], [41.81494, -87.74954], [30.120696, -97.635248], [40.848851, -73.827095], [25.95514, -80.190168], [40.562683, -111.898888], [25.778657, -80.179498], [38.270069, -122.667257], [33.80324, -112.24102], [39.077145, -122.096392], [37.45227, -122.12716], [38.010761, -120.33556000000002], [38.87968, -77.22116], [25.808224, -80.313148], [29.93129, -95.64233], [30.617827, -84.822168], [42.681344, -73.775289], [40.972979, -76.89731], [43.145874, -77.717939], [42.38346, -83.066], [33.582002, -81.94089], [33.698170000000005, -84.08439], [33.94485, -118.09916], [37.7904, -121.453395], [36.336152, -79.641002], [35.917882, -119.282035], [38.452638, -121.325487], [33.109613, -81.978398], [33.53849, -112.090495], [35.62864000000001, -78.84008299999998], [44.9648, -93.28543], [45.67914, -118.89353], [43.87001, -94.6898], [33.60575, -117.690192], [32.380697999999995, -111.23383], [45.353693, -118.193044], [41.000274, -123.63558799999998], [38.660775, -121.346852], [33.921886, -117.880028], [36.327421, -119.293437], [40.10146, -75.290583], [33.85398, -117.902118], [35.95160999999999, -78.99834], [33.89498, -117.49931], [33.678621, -78.96512299999998], [47.75303, -122.33008999999998], [37.593128, -77.467861], [27.267942, -82.464526], [37.68145300000001, -77.522604], [38.0335, -122.11671], [25.864886, -80.24233100000002], [30.320751, -81.69289], [47.949768, -122.087438], [42.42678, -83.2191], [43.638371, -83.926073], [39.953423, -75.137508], [33.574218, -117.180989], [43.127742, -121.034855], [28.568397, -81.284258], [39.23938, -123.20526], [28.392368, -81.366834], [33.79586, -83.651939], [33.686568, -117.765967], [25.847364, -80.387467], [44.651808, -123.917359], [39.175261, -120.136304], [33.76352, -84.38363000000003], [34.500592, -118.228619], [28.53933, -81.53409], [40.716113, -124.203232], [25.62374800000001, -80.414429], [42.364407, -71.058293], [39.059561, -94.489535], [39.014863, -76.92859], [29.943042, -90.093298], [37.377859, -77.408648], [40.715636, -111.938975], [34.51031500000001, -117.272423], [38.908649, -94.776273], [39.01556, -76.48845], [38.937231, -77.038589], [33.816336, -117.91597], [37.013064, -121.341881], [28.24388900000001, -82.213251], [37.15882, -121.98263], [42.3526, -71.05534], [25.92487, -80.30417], [38.9391, -77.13354], [26.094357, -80.16888900000002], [39.791412, -75.462887], [38.798786, -77.018955], [47.664284, -122.341761], [43.11733, -123.35903], [42.435218, -122.642279], [34.823822, -82.254796], [35.097297999999995, -85.327602], [34.070021999999994, -117.962205], [34.060539, -118.215215], [38.662791, -94.375789], [33.937789, -117.556152], [39.145456, -94.654415], [40.726222, -111.974346], [45.01005900000001, -93.34926], [28.495819, -81.434958], [40.622586, -111.903572], [29.850152, -95.396092], [37.721186, -77.815044], [35.22017, -112.27857], [39.75333, -76.015273], [40.82674, -73.85438], [33.986004, -118.280254], [38.83627, -77.09291], [34.054107, -118.237828], [29.712792, -81.33259100000002], [30.558028000000004, -87.707227], [37.548761, -122.291696], [40.688611, -73.98917], [35.294573, -80.85498199999998], [27.896056, -82.33971899999997], [30.009069, -90.074396], [34.0667, -117.98736], [27.85719000000001, -82.32673], [33.200472999999995, -87.525265], [25.769715, -80.33499599999998], [42.021684, -72.726578], [26.114645, -80.16906999999998], [36.08975, -80.42687], [45.981, -95.67133], [34.819776, -82.268579], [25.68383900000001, -80.40053499999998], [39.264249, -119.579951], [44.360354, -117.277313], [36.08336, -86.951798], [35.011684, -85.213986], [25.68525, -80.41665], [28.355842, -80.700087], [33.96256, -118.11808], [33.590868, -117.096712], [37.900823, -122.310622], [34.15048400000001, -118.44053999999998], [32.842432, -96.664803], [25.704114, -80.334288], [37.832318, -122.480677], [45.501669, -122.673844], [33.04507, -80.094039], [25.959771, -80.168975], [34.07195, -117.8772], [46.725255, -113.586004], [38.859555, -104.670987], [36.130453, -86.837356], [34.18731, -118.32168], [34.277976, -118.470178], [30.456187, -84.340886], [32.1779, -110.999925], [34.028625, -118.215961], [35.1346, -80.93936], [38.561892, -121.487105], [27.293053000000004, -82.448047], [32.770771, -117.13071399999998], [32.84312, -117.120322], [32.786306, -96.711337], [32.929191, -80.579638], [38.93515, -94.72918], [40.405536, -111.526884], [38.26997, -77.540397], [33.856840000000005, -118.02873999999998], [35.521298, -93.870116], [38.022276, -121.96309], [25.870141, -80.209959], [45.45417, -122.9049], [36.05888, -79.67536], [34.18248, -118.31517], [32.780354, -117.083778], [29.629235, -95.442397], [34.06446, -118.00388], [33.880593, -98.530298], [43.762251, -95.59328], [42.213629, -123.648683], [33.958507, -80.98450600000002], [35.201193, -78.67154000000002], [40.697209, -74.216341], [38.662591, -121.327385], [45.58047, -122.54358], [47.60434, -122.33856000000002], [32.549639, -97.109369], [32.767001, -117.147925], [38.57414, -121.577554], [34.155665, -118.445298], [38.010581, -122.015479], [32.221556, -110.878762], [28.55297, -81.3956], [29.48749, -98.48273], [38.001914, -122.59423], [33.939331, -117.191838], [32.112211, -104.421156], [38.346529, -77.48506400000002], [38.672169, -77.24684], [42.914349, -83.750473], [29.8814, -95.32338], [38.189398, -85.773338], [40.65993, -111.95277], [42.74104000000001, -84.65908], [33.624843, -117.717585], [28.551561, -81.396101], [45.12812, -93.48509], [32.736451, -96.823823], [28.745804, -81.341954], [45.51016, -122.66665], [33.456718, -80.678075], [39.552315, -120.785354], [34.55797800000001, -118.132558], [38.495542, -121.522047], [40.088703, -75.265978], [40.293968, -78.87137299999998], [34.997454, -81.994675], [34.07199, -118.108951], [25.601559, -80.352902], [39.90215, -83.07719], [38.14005, -85.58901999999998], [34.061094, -117.396424], [35.047298, -110.767134], [45.587152, -118.639936], [42.12032, -120.31705], [34.14271, -118.73596], [43.61953, -116.351361], [39.17599000000001, -118.032399], [29.61935, -95.56467], [34.041026, -118.161878], [34.06678, -117.33234], [38.90991500000001, -76.061836], [39.982842, -75.926567], [34.466347, -118.335882], [26.30416, -80.16938], [36.045277, -86.717085], [30.348091, -97.562049], [33.871225, -117.880307], [35.50396, -117.665773], [33.64461, -117.73519], [41.63882, -83.49343], [38.33156500000001, -122.715031], [35.001125, -92.411722], [33.190931, -117.242242], [39.557822, -119.752504], [47.235899, -122.424552], [38.677791, -77.27933900000002], [42.95279, -76.13825], [34.068845, -117.366515], [38.52917, -90.40404], [28.491883, -81.428336], [28.580868, -81.286198], [44.8506, -92.99018], [33.945459, -118.317735], [34.890203, -117.102627], [34.570534, -82.794975], [32.745601, -96.75829], [34.072896, -117.787482], [34.45462, -79.332092], [37.944326, -122.50569099999998], [35.310828, -118.878567], [39.699107, -104.984577], [40.089753, -75.378091], [46.369096, -94.904505], [42.49226, -82.99894], [33.986675, -118.16993], [45.54741, -122.55679], [42.638538, -123.386461], [33.780662, -117.211343], [33.462427000000005, -112.238528], [33.799890000000005, -84.39126], [31.179925, -85.40172], [41.973437, -73.907588], [35.177594, -85.24698199999997], [45.606125, -94.40012], [39.29793, -84.52877], [32.843059000000004, -111.686507], [43.00241, -83.73338000000003], [28.36947, -81.35615], [37.604135, -77.502981], [34.271438, -81.707702], [37.388462, -121.802457], [30.185543, -81.513483], [33.85693, -117.97626], [27.447751, -82.573305], [42.151276, -88.536829], [27.421662, -82.570929], [28.51715, -81.289748], [34.146629, -117.90963700000002], [47.28375, -122.308403], [28.388201, -81.506467], [43.24177, -77.629118], [33.83518, -118.28749], [45.029329, -122.971371], [33.546903, -86.82815500000002], [38.617211, -121.334175], [29.789225, -95.531352], [25.899184, -80.191929], [36.431061, -119.816304], [44.9501, -92.986274], [42.872289, -78.789879], [34.919139, -82.346327], [33.974119, -118.224181], [29.965559, -90.087509], [36.411667, -121.319722], [34.222744, -118.473555], [38.661519, -121.346026], [38.667749, -121.338084], [35.306005, -80.859087], [25.94559, -80.18654000000002], [46.39802, -113.306647], [35.016948, -85.183856], [35.81163, -78.60274], [28.472861, -81.367825], [45.304904, -121.787398], [38.941798, -94.810506], [41.22258, -96.07324], [39.868223, -105.058831], [46.800652, -92.073529], [37.299336, -77.501532], [26.155046, -81.29396700000002], [33.772254, -118.037655], [37.705737, -122.084002], [38.28952, -85.6486], [36.07128, -79.155582], [29.656514, -95.570827], [41.74991, -88.064], [37.56059000000001, -122.03552], [36.876476, -76.199083], [40.64983, -111.90236000000002], [33.853722999999995, -117.810474], [28.575209, -81.451796], [25.686803, -80.35121], [30.320876, -81.72001800000002], [29.80177, -95.33963], [45.83194, -95.27306], [33.9747, -118.244046], [34.180106, -118.761541], [36.774649, -121.671841], [35.569263, -78.164576], [34.410462, -119.856261], [44.96636, -93.2778], [37.51217000000001, -77.4636], [30.261327, -85.539277], [33.898375, -118.370277], [32.72316, -96.82691], [41.040254, -73.581973], [30.664226, -87.960029], [29.259073, -90.216065], [27.965408, -82.420517], [40.231442, -74.900837], [33.534481, -84.261931], [34.805512, -82.229682], [37.690142, -122.122302], [33.566817, -117.643965], [39.523434, -76.357304], [35.25808499999999, -80.87104699999998], [39.984387, -74.883638], [32.604131, -96.685901], [33.872419, -117.664841], [46.71585200000001, -113.531073], [25.734989, -80.30295600000002], [37.75794000000001, -121.531537], [37.826814, -121.144273], [39.952842, -82.947396], [32.206371999999995, -110.826351], [45.108805, -93.301169], [32.309708, -111.011996], [32.759107, -117.204], [33.639070000000004, -84.37810999999998], [28.451013, -81.470834], [37.932478, -122.325779], [42.40208, -122.93614], [42.39696, -83.21805], [39.99511500000001, -75.54440600000002], [34.311543, -82.62906600000002], [33.895720000000004, -118.28631], [34.151665, -118.132258], [25.66706700000001, -80.37880200000002], [34.03045, -118.21682], [32.752786, -96.648093], [37.537706, -77.435463], [30.215981, -93.330658], [37.44300000000001, -122.11668], [30.353516, -97.69876], [37.518699, -120.88375], [42.85287, -85.530785], [42.77088, -71.11962], [33.462542, -112.136569], [48.843805, -122.486], [38.660723, -121.327363], [34.240266, -117.184192], [37.648816, -122.096876], [29.08276, -81.318978], [32.669069, -96.924257], [33.175975, -117.351762], [37.298102, -121.874214], [45.175328, -118.781108], [40.63066, -111.87783], [42.262759, -121.87661], [27.78108, -82.66055], [39.96117, -74.91719], [40.82346, -73.879931], [32.77305, -117.04331], [33.546726, -86.58465], [25.651245, -80.38385], [34.03043, -117.67654], [39.187032, -120.195014], [41.031485, -77.51900400000002], [40.555666, -76.001763], [47.617558, -91.363697], [38.63976, -121.48439], [34.21629, -118.23552], [28.552325, -81.364446], [35.76100200000001, -119.454098], [34.061159, -118.456639], [35.445274, -118.528479], [34.087166, -117.674068], [35.204932, -80.824302], [33.674885, -117.838409], [33.856683000000004, -117.979225], [33.547528, -117.179041], [25.85225, -80.20814], [45.00065, -93.23663], [39.347714, -76.504334], [25.71537600000001, -80.431229], [38.818912, -76.913317], [33.780731, -84.391209], [26.745502, -80.090599], [42.927612, -85.66967], [45.8168, -122.54701], [42.344838, -122.87483799999998], [37.898666, -122.309448], [33.577040000000004, -112.116905], [43.691865, -93.319534], [33.817519, -117.831852], [39.621216, -77.78932900000002], [35.166851, -85.05788299999998], [39.862662, -75.112269], [37.55743, -122.30039], [34.13477, -117.62019], [29.67164600000001, -82.417939], [28.519318, -82.571302], [36.210053, -86.778228], [33.662506, -84.395547], [29.256855, -81.116129], [37.119423, -120.020238], [29.750286, -95.357512], [42.26913, -88.03372], [34.071005, -118.049413], [34.389616, -119.501621], [40.72827, -73.97176999999998], [39.696317, -78.15209200000002], [38.903481, -76.927767], [33.917766, -118.179148], [38.988655, -76.88323199999998], [30.254457, -97.865559], [33.848934, -81.02731999999997], [39.61152, -110.83608999999998], [26.687163, -80.16090600000003], [45.290032, -122.948201], [25.903439, -80.20993], [45.52767, -122.6691], [40.77931, -73.5717], [33.63747, -81.74540999999998], [37.86172, -122.03982], [41.122194, -111.764851], [29.175522, -82.326627], [44.99817, -123.0001], [37.448025, -77.567456], [42.49073, -83.28260999999998], [45.425683, -94.086987], [37.328871, -122.051872], [45.529013, -120.691187], [38.39911, -82.51718000000002], [30.208472, -82.756556], [42.26937, -83.214], [33.799957, -118.290676], [34.01419, -117.7376], [42.38334, -83.21757], [34.037286, -118.038327], [35.26162100000001, -80.877567], [26.542968, -81.83934], [26.49276, -81.806213], [30.013162, -89.99384], [32.742607, -117.23172], [39.62604, -104.79152], [40.711995, -73.7287], [41.422689, -73.258813], [26.22958, -80.18066], [38.299122, -77.155429], [32.75995, -117.19982], [33.559917, -117.690943], [38.446701, -120.685598], [48.044081, -122.181326], [44.8625, -93.25799], [25.662455, -80.450057], [45.57235, -122.67877], [34.756393, -118.795595], [39.924735, -104.803596], [25.77818, -80.165234], [29.983390000000004, -90.05442], [41.11135, -78.54119], [29.947053000000004, -90.07003], [40.65122, -74.45818], [28.876140000000003, -81.28299], [40.734317, -74.081233], [34.708587, -81.32145600000003], [41.61936, -124.109316], [34.11974, -84.50731999999998], [42.46501, -87.913308], [36.210837, -119.153971], [38.56549, -121.50061], [38.74623, -75.94417], [38.68836500000001, -85.788449], [41.000111, -92.394048], [39.06349, -94.49942], [34.028514, -118.44718600000002], [34.123777000000004, -81.21494799999998], [44.548946, -112.298462], [39.53388, -104.7934], [40.72644, -112.21778], [47.41953, -122.00538], [30.580047, -84.70509399999997], [38.918797, -77.545091], [33.42879600000001, -111.926271], [38.060106, -77.504028], [33.596146000000005, -78.998612], [38.84816, -77.42255300000002], [40.70565, -73.81796999999997], [28.28170900000001, -81.593698], [29.713153, -95.614675], [27.462592, -82.61245600000002], [40.40297, -79.91663], [27.526411, -81.35644599999998], [33.458659999999995, -112.15184], [34.284693, -83.806296], [40.853821, -73.96364399999999], [34.26364, -119.09374], [40.3278, -75.55803], [41.60036, -72.67206], [35.258214, -112.1079], [34.077421, -117.488552], [39.231047, -123.199691], [27.439472, -82.530264], [34.17715, -118.468424], [36.09619, -86.65568], [25.913177, -80.309299], [40.81116, -73.93122], [41.74693, -87.62529], [36.113623, -89.161617], [33.139901, -117.143984], [25.898327, -80.309178], [43.842934, -94.163212], [42.70644, -73.83075], [38.907512, -78.500093], [44.94442, -123.04148], [40.853898, -73.964376], [32.869956, -96.671729], [40.962574, -75.117385], [25.896301, -80.276444], [32.350198, -95.324654], [34.248343, -84.467235], [41.91582, -87.66803], [27.79072, -82.3572], [34.140840000000004, -118.27779], [32.809825, -96.808101], [32.662766999999995, -96.869989], [41.958318, -76.979649], [38.250542, -85.806688], [40.668951, -75.224837], [28.97457600000001, -82.131815], [33.486940000000004, -117.14279], [26.617519, -80.17364599999998], [33.86262, -118.04351], [42.427928, -87.903922], [25.963012, -80.155381], [38.181856, -77.27707], [39.752107, -86.264723], [33.378287, -79.448977], [40.696803, -74.218622], [35.19587, -80.87724], [35.947962, -78.543081], [25.865481, -80.250688], [34.268531, -118.485896], [43.40583, -121.82639], [40.488414, -111.894665], [47.578321, -122.20765], [33.961091, -118.231788], [40.606447, -80.690797], [34.134691, -117.335501], [39.933124, -105.123779], [37.242872, -93.260982], [33.602397, -112.393741], [43.809024, -123.040641], [35.700577, -83.043347], [27.863017, -82.72879300000002], [27.496144, -82.634378], [36.807919, -76.356944], [26.51991, -80.0727], [34.142941, -81.266774], [34.15008, -117.47901], [33.058662, -117.070373], [25.769642, -80.314927], [36.143368, -86.737215], [33.940940000000005, -117.24911000000002], [37.557611, -77.412879], [33.948573, -84.358039], [38.843116, -76.93234], [40.931228, -74.109359], [38.85438, -104.74116], [34.157373, -80.905137], [39.501744, -106.165834], [47.857355, -122.288335], [33.70313400000001, -84.179651], [34.156279999999995, -118.26049], [39.982503, -78.654813], [26.12065, -80.34594], [45.69098, -121.771413], [35.100733, -80.879954], [39.148947, -76.687529], [38.802798, -76.998807], [37.62585, -77.55771999999997], [40.692455, -73.99952900000002], [43.17387, -77.54143], [37.82181, -121.215854], [25.642714, -80.334553], [33.834216999999995, -117.87622], [25.898118, -80.21530600000001], [30.402351, -86.871398], [29.871061, -95.342642], [34.033259, -118.183398], [43.713814, -92.989893], [35.74778900000001, -78.593591], [33.44088, -117.136422], [37.499382, -121.105865], [30.948089000000003, -87.86175300000002], [43.08928, -122.11761], [37.01717, -121.56401], [44.785971, -123.90241], [38.589526, -121.504587], [29.802836, -95.478905], [25.888161, -80.251413], [33.791362, -84.49462199999998], [45.925737, -92.966534], [35.021028, -81.895912], [33.772919, -117.74299], [42.82732100000001, -71.49429], [45.07425900000001, -93.319384], [38.839107, -121.306908], [27.892487, -82.33671], [42.941097, -78.766479], [25.890526, -80.18040500000002], [44.785047, -93.601764], [40.66444, -73.84532], [25.880332, -80.25131400000002], [34.06066, -118.24775], [25.7307, -80.317718], [37.18468, -93.262244], [38.74345, -121.17061], [36.15103, -86.85781999999998], [38.405832, -121.386748], [28.284259, -80.669563], [41.242612, -77.002313], [30.241344, -81.52635], [40.769052, -73.27986999999997], [32.674927000000004, -96.600434], [34.066759999999995, -117.22088], [40.623797, -111.924275], [26.110636, -80.297359], [38.749509, -77.184921], [29.662206, -95.355597], [35.965622, -78.84682099999998], [28.451602, -81.477678], [40.65459600000001, -74.190905], [41.3154, -73.69118], [39.76844000000001, -84.25348000000002], [42.379261, -87.90454], [40.55083, -80.08804], [34.922951, -118.149944], [39.78217, -75.4744], [43.634773, -116.354411], [36.823035, -119.763207], [37.42987700000001, -121.885816], [33.43065, -84.18571999999998], [32.338777, -95.300668], [38.543894, -121.33493500000002], [33.97163, -78.852699], [33.0617, -117.29137], [38.877014, -77.274677], [36.146286, -87.293123], [34.863845, -118.198115], [38.55361, -121.40927], [25.866569, -80.250737], [39.31337, -82.92838], [28.472236, -81.429239], [45.61704, -118.652852], [26.191136, -80.15534], [26.014161, -80.16736999999998], [30.004797, -82.491052], [38.00927100000001, -122.226983], [32.706728000000005, -80.827278], [44.651956, -117.903696], [39.35083, -121.662259], [44.007279, -94.170955], [34.187474, -118.566086], [25.68543, -80.4165], [33.88133, -117.597577], [39.104021, -77.543746], [39.81834, -86.06557], [25.931088, -80.121876], [41.80154, -72.656], [28.789806, -81.27306], [26.494774, -81.928392], [39.10606, -84.53186], [40.190187, -86.56701899999999], [34.493492, -82.677798], [38.631763, -121.336719], [25.80927, -80.31626999999997], [30.550208, -91.164624], [25.763299, -80.26324100000002], [39.206864, -77.27315300000002], [38.011875, -122.272168], [33.89417, -118.26114], [47.09704, -122.44827], [41.939116, -86.569422], [41.046284, -73.799897], [34.198769, -82.138852], [37.051166, -120.63553600000002], [44.89006, -93.28835], [32.642052, -96.806688], [39.305144, -76.893664], [38.620984, -90.191829], [33.214003000000005, -117.389621], [33.936522, -117.290354], [36.123473, -119.32467], [26.641451, -81.6847], [46.290088, -112.097078], [40.252865, -76.81188900000002], [32.32321, -86.23807], [32.399421000000004, -90.177808], [25.988148, -80.165745], [39.424338, -111.557939], [42.173643, -121.717167], [37.509814, -121.970296], [33.930965, -118.291925], [47.61725, -122.628898], [48.55386, -122.35027], [33.420139, -99.819132], [38.206158, -85.744414], [35.043053, -85.157348], [40.3741, -111.8109], [35.779944, -78.652149], [28.47902, -81.44962], [34.01852, -117.51941], [32.784062, -96.76533], [29.148405, -81.071787], [33.862606, -117.790224], [38.791855, -77.174824], [42.62741, -82.99386], [29.68349000000001, -95.27551], [40.07307, -76.35112], [38.441601, -82.134486], [39.267382, -76.622065], [37.882935, -120.404253], [33.462333, -112.409605], [36.14864, -86.74611999999998], [34.069858, -117.103922], [45.972, -94.340382], [30.460272, -89.697202], [28.48614, -81.43992], [30.42411400000001, -91.051479], [39.18111, -84.62852], [33.956433000000004, -117.306314], [35.868324, -78.611198], [34.4266, -117.50354], [34.98684, -85.20185], [25.628946, -80.340296], [37.329024, -121.841791], [35.241242, -80.799061], [25.811598, -80.138919], [35.021064, -82.33500699999998], [39.15177, -84.39353], [30.311598, -84.24695799999998], [38.876859, -76.977848], [38.83986, -77.44481], [40.58379, -73.98493], [37.869523, -122.304749], [44.9522, -93.069767], [37.442849, -77.68417600000002], [42.311442, -87.904657], [33.171125, -87.54684], [47.016752, -114.640542], [38.879177, -76.996723], [34.896177, -82.55573000000003], [38.815201, -77.13873199999998], [28.59733, -81.299849], [45.07918, -93.18549], [39.030903, -77.98395500000002], [32.76621, -96.85685], [30.647412, -84.438666], [33.963407000000004, -118.370486], [36.735481, -119.880741], [46.807432, -113.794851], [35.237919, -119.073874], [33.85606, -117.98778], [39.62967, -77.809671], [38.785059, -77.548597], [35.64907, -78.846148], [40.13541, -75.185485], [25.930891, -80.204562], [27.82103, -82.68051], [34.307231, -119.29841100000002], [34.114045000000004, -117.881432], [37.952833, -121.308042], [40.75647, -73.62103], [45.10953, -94.451684], [37.966151, -107.659457], [27.916765, -82.78766800000002], [42.5595, -73.679434], [44.557608, -93.850924], [38.507155, -90.337218], [41.50684, -72.11484], [40.498899, -111.89136299999998], [28.36953, -81.36117], [42.21447, -70.99706], [48.1988, -122.21116], [39.25989000000001, -84.33962], [34.26184600000001, -118.33203600000002], [40.81901, -74.040463], [34.070915, -117.760379], [34.249534000000004, -117.021161], [30.352488, -81.554056], [37.590518, -77.570249], [38.740305, -121.273552], [40.25438, -76.86843], [27.045968, -80.239387], [43.04574, -77.65904], [37.89838, -122.30933], [39.137725, -94.567314], [40.70644, -74.0024], [33.74718, -80.074363], [33.765464, -81.122576], [34.043442, -118.169897], [34.012008, -117.962534], [35.541361, -90.162423], [45.438348, -122.766627], [34.01876, -117.34024], [40.696144, -75.197591], [30.488116, -86.122313], [35.5077, -82.99204], [33.510591999999995, -86.68762], [41.07919, -81.50402], [34.065277, -117.121552], [34.147944, -118.08151], [34.027390000000004, -117.964418], [44.247414, -93.283427], [39.382074, -77.40973199999998], [33.435754, -112.267247], [34.229098, -118.39323799999998], [37.321815, -89.43198000000002], [37.960554, -122.280432], [28.577875, -81.45345400000002], [33.27121, -117.085839], [38.87001400000001, -77.220385], [38.923619, -121.058251], [39.3399, -76.49414399999998], [30.385165, -86.388899], [40.030237, -122.293252], [27.493938, -82.564159], [26.357483, -81.807634], [26.182748, -80.152419], [33.65625900000001, -112.125811], [37.55743, -122.30039], [26.36321, -80.11973], [25.685223, -80.417573], [42.232836, -87.873711], [39.855684, -85.056506], [40.854204, -73.965876], [32.432264, -93.710885], [34.627307, -118.152991], [39.436418, -77.518153], [34.150413, -118.280699], [34.068613, -117.860852], [33.31436, -80.54366], [33.909187, -118.328665], [34.136720000000004, -117.547799], [44.935511, -95.946098], [39.048458, -94.499482], [35.900541, -79.957262], [28.13773, -82.69629], [33.858055, -117.411672], [26.122366, -80.35616], [32.872370000000004, -83.66107099999998], [34.03702, -118.37921], [29.982233, -90.05546600000002], [28.48278, -81.45873], [33.51945300000001, -86.85854300000004], [40.71848, -111.89177], [47.733795, -122.29785], [32.319619, -110.975019], [25.909895, -80.236127], [27.373985, -80.38379499999998], [29.625524, -95.284064], [41.30324, -73.89190699999997], [28.259749, -81.436207], [33.412859999999995, -111.89151], [37.354017, -120.632298], [38.47782, -121.42671], [40.883367, -73.816276], [43.659988, -94.109787], [30.685038, -91.141097], [44.64397, -123.92801], [33.876804, -118.114281], [45.571313, -93.90859], [35.88841, -80.515761], [45.45062100000001, -122.571812], [45.059985, -93.287101], [32.811143, -117.114389], [39.698995, -84.249799], [33.628442, -117.720913], [25.96375, -80.147421], [34.067654, -117.578867], [34.013742, -118.280663], [37.60368, -122.06436], [37.951442, -121.696141], [25.73315400000001, -80.330557], [27.3321, -82.44704], [32.844015, -96.692242], [30.356485, -97.731822], [46.892522, -98.477001], [29.99674000000001, -90.04500999999998], [39.729053, -121.811382], [39.68354, -82.67896999999998], [38.418678, -121.486019], [34.63289, -83.620355], [33.946069, -81.235452], [34.506307, -117.323309], [34.019762, -118.154263], [38.063717, -122.225385], [45.02289, -93.08985], [39.62763, -106.06916], [44.555599, -123.04491000000002], [40.922666, -73.820883], [33.669059999999995, -112.06545], [44.98693, -93.23859], [32.73418, -96.639786], [28.01506, -82.73679], [38.833144, -77.450827], [34.02947, -117.330012], [34.019315, -117.339556], [47.79176, -122.20838], [42.191689, -121.5959], [31.734527000000003, -106.301572], [28.116084000000004, -80.706049], [28.609575, -81.415572], [41.03901, -78.405743], [38.443005, -121.862149], [37.560606, -122.035211], [33.874069, -98.561017], [34.135369, -118.004976], [46.18006, -123.86432], [41.73764600000001, -83.547255], [34.704791, -117.203446], [34.011682, -117.345138], [37.70117, -121.825658], [47.43716, -122.21851], [40.4998, -74.301427], [32.952247, -97.310413], [38.559364, -121.51398600000002], [35.588475, -82.996717], [40.04381, -75.00289000000002], [33.86955, -117.75095], [40.700887, -73.815569], [40.723211, -111.93898], [36.113457, -86.746516], [42.211248, -88.11143], [40.372685, -76.680482], [38.57027, -81.269813], [38.21889, -104.61896], [42.07405, -93.56726], [38.49617, -121.44593], [40.256774, -75.586462], [25.876007, -80.198072], [44.48101, -124.08034], [25.818881, -80.37377099999998], [36.137562, -115.0656], [34.574023, -120.193557], [33.50201, -84.22675], [34.068841, -81.05587], [26.345821, -81.76132], [33.772459999999995, -117.90842], [37.519502, -77.516205], [26.373268, -80.116947], [41.8477, -87.91892], [34.118329, -117.842129], [37.449035, -120.912757], [31.767282, -106.257263], [32.351044, -86.220021], [40.71815, -111.89508], [35.062406, -85.30663100000002], [42.359636, -87.900475], [38.552935, -121.33615], [25.870141, -80.209959], [45.53364000000001, -122.6256], [28.069413, -82.565399], [26.081536, -80.141704], [37.08356, -120.20636299999998], [45.70086, -120.34323], [39.318813, -120.562301], [41.28572800000001, -72.87714799999998], [38.865571, -77.053934], [48.103703, -114.63324], [25.733332, -80.32918199999997], [34.036026, -118.349428], [35.818208, -78.60819599999998], [25.880626, -80.355278], [37.973932, -122.234455], [33.911245, -118.172382], [42.23729, -88.1125], [34.46693, -118.32603], [25.670913, -80.415251], [35.956847, -78.54132800000002], [34.150262, -118.067621], [32.703037, -117.121218], [41.76053, -72.65326999999998], [34.062956, -80.959312], [38.974792, -77.018292], [43.149629, -75.416818], [35.9881, -119.960477], [33.080099, -117.296623], [38.320584, -121.46566599999998], [34.433820000000004, -118.38894], [44.861726, -93.274452], [32.716459, -117.116414], [35.27792, -80.79651], [37.916375, -122.48036], [36.413639, -121.674107], [34.03794, -117.32045], [40.708411, -74.165664], [38.956617, -121.10132], [35.890891, -78.848588], [30.467552, -84.339226], [30.217869, -81.615346], [35.026779, -85.305103], [28.598318, -81.29908], [30.299616, -97.716524], [33.69325, -117.86691], [28.753699, -81.936796], [36.059124, -79.620788], [38.98809, -77.43422], [28.632709, -81.44075], [41.239953, -87.50177], [43.02496, -83.680769], [35.571763, -121.112169], [35.341097, -118.842684], [27.896153, -82.339793], [37.70171, -121.76941], [26.353231, -80.117816], [35.43422, -97.4014], [33.86694, -117.72057], [25.656456, -80.408637], [28.361237, -82.698988], [33.092441, -117.082887], [46.730964, -112.041307], [44.768152, -93.980158], [44.922174, -93.466948], [36.75359, -119.6888], [28.485299, -81.41736800000002], [40.417219, -74.372017], [42.945113, -85.6828], [37.526881, -77.612273], [28.470752, -82.486149], [33.914291, -118.183864], [40.611329, -111.90618], [36.156533, -86.858897], [39.24473, -94.45493], [39.04475, -94.38389], [35.367682, -118.976413], [41.142371, -73.273969], [33.922940000000004, -118.103695], [36.06774, -80.31211], [34.06841, -118.03837], [37.397626, -77.458263], [33.729432, -117.387746], [35.028521000000005, -85.156481], [39.26668400000001, -76.613338], [26.427344, -81.775842], [46.72534, -93.602853], [33.775363, -117.848698], [39.26661, -84.35605], [38.856894, -77.071864], [33.391054, -117.174077], [46.23506, -123.87196000000002], [32.813383, -80.059465], [33.952694, -118.369395], [37.333635, -122.063459], [45.129712, -93.377099], [33.334297, -111.972076], [34.106217, -117.91678600000002], [35.103512, -81.00832], [34.012578000000005, -118.490649], [25.67974, -80.38894], [45.497517, -122.619886], [34.323273, -118.475457], [25.78711400000001, -80.210988], [26.749531, -81.861587], [45.19873, -123.182412], [42.57595, -114.05188], [34.62299, -97.440272], [34.104555, -117.199434], [28.393534, -81.618998], [43.997279, -121.40633], [34.045751, -117.948942], [35.717936, -118.438507], [34.277343, -77.869463], [25.010744, -80.515575], [42.19365, -83.24103000000002], [34.890329, -118.913617], [33.714991, -84.299994], [33.870023, -117.704225], [33.495672, -82.611275], [28.050956, -82.73876800000002], [37.506862, -81.116019], [27.849587, -82.353154], [32.928490000000004, -80.04394], [33.386070000000004, -111.84922], [34.239412, -119.180864], [37.51666, -77.19506], [33.46223, -112.0477], [32.760425, -97.240582], [44.882109, -123.972977], [25.81711, -80.20644], [34.945482, -78.068214], [45.12112, -93.482038], [33.970345, -117.548669], [44.955894, -93.074965], [25.749912, -80.33583], [37.4625, -122.14454], [25.858664, -80.233941], [40.38745, -111.91635], [25.824404, -80.2066], [33.915676, -118.370446], [34.223531, -119.131298], [45.526, -122.6869], [34.015141, -118.055715], [42.132989, -122.633829], [35.779399, -78.689697], [38.62294, -121.521309], [37.283831, -78.618075], [28.95862, -82.12281], [40.426007, -120.801705], [33.964044, -117.325059], [34.172007, -118.47146399999998], [39.659617, -77.743911], [30.650377, -87.321089], [43.999065, -92.250887], [33.652159999999995, -84.00200000000002], [28.47868, -81.44595], [34.916899, -81.989509], [34.426668, -118.584973], [38.96203, -77.18672], [44.053039, -123.245661], [25.598649, -80.35248100000003], [29.690259, -95.587682], [25.76972, -80.333946], [45.06724000000001, -93.18588], [38.259862, -122.660619], [33.061637, -117.29108], [38.866658, -77.320413], [35.777564, -78.63663100000002], [39.436494, -84.25623399999998], [34.107081, -117.917267], [34.06179, -118.247919], [37.135611, -121.636209], [34.06521, -84.27355], [34.15306, -118.37035], [45.6391, -118.68473], [25.7307, -80.317718], [39.454728, -76.31464100000002], [32.692137, -96.823079], [39.26934, -77.5469], [34.829572, -82.438007], [41.579087, -72.650413], [42.660901, -73.737909], [35.910133, -78.73383100000002], [41.68084, -72.65361], [25.499415, -80.432901], [41.55906, -87.74333], [35.89043, -78.561738], [36.152261, -86.779287], [40.0868, -76.19503], [38.82331, -81.72719000000002], [28.449924, -81.479136], [35.321396, -80.733932], [45.194864, -122.789874], [36.736375, -119.689496], [42.643516, -73.904628], [29.955199, -90.072237], [33.460262, -80.75553599999998], [25.995583, -80.178411], [39.38930300000001, -77.44064200000003], [33.96816, -118.16766], [26.70279600000001, -81.755629], [33.917484, -118.291824], [25.885851, -80.210763], [33.917608, -79.96235300000002], [44.06261, -123.074072], [45.112403, -93.473049], [33.882282000000004, -117.588033], [33.919253999999995, -118.294018], [34.402606, -118.45511], [40.894861, -72.747976], [33.1984, -80.60415], [44.96603, -93.265116], [33.869015000000005, -117.730573], [40.572971, -75.392657], [40.665275, -122.636538], [38.684114, -121.473944], [42.704468, -73.706921], [37.34457800000001, -121.84502], [47.68321, -122.18382], [33.846183, -118.092689], [25.81605, -80.20566], [38.811287, -77.212365], [41.148269, -112.064466], [25.829162, -80.249177], [37.40328, -122.04709], [35.568432, -80.561098], [35.49324, -97.52261], [47.10274, -122.59617], [25.926016, -80.156913], [30.31822, -81.727563], [48.125969, -114.262368], [39.77178, -104.81892], [38.641648, -121.425038], [34.206672, -118.227982], [40.966773, -78.52313199999998], [38.46587, -77.406867], [39.654138, -79.741889], [43.383041, -121.730587], [44.86249, -93.21498], [29.947469, -90.104177], [37.64784, -122.0959], [43.322144, -123.344997], [34.288598, -79.884692], [34.065545, -117.997015], [40.52089, -74.3068], [28.330787, -82.699167], [42.88758, -85.626213], [37.963406, -120.334022], [28.493745, -81.396763], [44.293456, -124.11101399999998], [38.189581, -85.771712], [40.60438900000001, -103.60054], [28.08032, -80.672602], [27.537055, -81.825796], [33.71752, -85.02075], [35.249498, -80.969527], [28.573383000000003, -81.20766], [40.049768, -80.183952], [25.941481, -80.315901], [45.42942, -93.93487], [40.72765, -112.167], [31.364983, -89.354095], [35.00633, -85.20756], [42.27759, -122.811495], [35.001276000000004, -85.210858], [36.845706, -76.255943], [34.178882, -118.310877], [34.698737, -86.382122], [27.855475, -82.663788], [40.38753, -111.83403], [41.32612, -77.764997], [38.498027, -122.654016], [33.820277000000004, -79.08560200000002], [39.742472, -105.431304], [40.789652, -73.821079], [25.890733, -80.163416], [33.465152, -81.695006], [34.01962, -117.54324], [33.869856, -118.055125], [37.545374, -122.36991100000002], [39.096808, -94.575227], [34.15457, -118.31387], [34.492214000000004, -117.39945], [41.36909, -72.20258000000003], [33.992034000000004, -117.931843], [44.06118, -123.02618], [38.776368, -77.296881], [38.546868, -121.428369], [38.700408, -120.077363], [45.080712, -122.792626], [35.49326, -97.5477], [25.678744, -80.31760899999998], [40.462348, -74.41548], [43.368235, -124.295073], [39.161099, -123.583992], [34.558001000000004, -118.045163], [37.62193, -88.98718000000002], [40.874151, -74.06369000000002], [34.066723, -117.243453], [38.882399, -77.011337], [29.660647, -95.482185], [33.766335, -86.467515], [33.889990000000004, -117.50985], [34.696445000000004, -79.787185], [37.883894, -122.501921], [38.490718, -121.514378], [34.044924, -118.009654], [33.522078, -112.116916], [37.262824, -93.146799], [36.699775, -77.095237], [37.45482, -77.51126], [30.262425, -97.733766], [45.635168, -120.914127], [44.95173, -93.081632], [37.689237, -122.103564], [32.749587, -96.922026], [25.499482, -80.416209], [36.976142, -121.959143], [33.88644, -118.35526000000002], [25.577695, -80.366045], [37.67479, -122.46905], [37.303209, -121.816593], [37.99555, -84.46573000000002], [33.200821999999995, -87.52537199999998], [27.959502, -82.79173], [37.74566, -121.361832], [34.070417, -117.399095], [33.774214, -118.094218], [38.852902, -77.39809100000002], [37.624983, -122.079822], [33.9249, -117.11449], [41.75253, -87.94456], [39.927077, -104.98781], [34.908409000000006, -120.489952], [43.665794, -93.530012], [45.54431, -122.37702], [33.916956, -118.137625], [25.885372, -80.21074499999997], [28.175479, -82.462988], [39.053557, -104.849687], [47.45383, -122.264018], [32.792196000000004, -96.728422], [37.85515, -122.02963], [36.16555, -86.61322], [35.368349, -80.766234], [37.748955, -121.72987], [33.775434000000004, -118.087731], [41.324955, -72.383219], [41.535857, -87.58251899999998], [37.13887, -84.06463000000002], [25.748801, -80.335788], [29.978729, -90.068828], [25.75511, -80.20205], [34.07198, -118.08187], [29.813566, -95.39357], [38.419307, -78.837643], [42.37072, -87.89587], [39.20446, -76.5493], [45.03476, -92.98954], [32.264845, -110.942635], [38.53848, -121.47367], [35.299137, -80.800678], [41.043261, -73.572199], [33.13948, -117.144369], [37.248747, -79.626413], [27.52168, -82.52828000000002], [37.266545, -121.94846], [26.452334000000004, -80.090175], [44.88977, -93.35351], [32.92585, -96.828776], [25.669501, -80.41622199999998], [28.42485, -81.404787], [25.702683, -80.326699], [43.91037, -93.27692], [33.881814, -117.547053], [33.88341, -117.53907], [34.30045, -118.47672], [38.20189, -85.65543000000002], [32.17783, -110.96829], [28.137745, -82.69628900000002], [25.769715, -80.33499599999998], [41.59465, -81.51334], [32.279564, -110.919841], [32.749955, -117.237268], [38.57399, -121.384304], [39.588364, -120.359205], [39.019883, -76.41472900000002], [48.428621, -122.34017], [39.364342, -77.39981999999998], [41.65813, -87.58708], [38.490884, -121.34811], [33.91539, -84.34737], [40.85024, -73.94506], [35.203684, -80.72247], [38.926974, -77.199758], [38.450015, -78.83789], [33.86315, -118.04432], [39.047984, -94.461608], [25.6146, -80.32399699999998], [39.74685, -105.463138], [33.860304, -118.200962], [39.174394, -75.522408], [38.240028, -78.9639], [40.84961, -73.94194], [38.564051, -121.38268899999998], [25.893039, -80.16272099999998], [34.182082, -118.397179], [29.810915, -95.410299], [29.78514, -95.67031], [28.800016, -81.343478], [33.82548, -118.22931], [33.6987, -117.861755], [34.491955, -119.796772], [34.303248, -118.479759], [32.74239, -96.818362], [35.13118, -81.54272900000002], [33.19733, -87.237311], [38.921374, -77.10980699999998], [30.18128, -81.513], [28.324624, -81.37370200000002], [33.690909999999995, -79.1177], [37.770949, -122.405755], [39.02258, -84.48668], [25.624727, -80.41442099999998], [35.3374, -119.03948], [26.188235, -80.151843], [35.8443, -119.824196], [28.55985, -81.3972], [41.94327, -87.71621], [40.696481, -74.369941], [40.316358, -111.726225], [39.961639, -75.182608], [34.087394, -117.662948], [33.752638, -81.528191], [33.724255, -117.977422], [44.954651, -93.078669], [40.79414000000001, -74.19218000000002], [47.257443, -110.653792], [33.56193, -111.88349], [39.03072, -84.60775], [32.32808, -90.16127], [33.163598, -97.076222], [25.437742, -80.501506], [35.457097, -119.474805], [29.718375, -95.320759]],\n",
              "                {&quot;blur&quot;: 15, &quot;maxZoom&quot;: 18, &quot;minOpacity&quot;: 0.5, &quot;radius&quot;: 25}\n",
              "            ).addTo(map_9968765d5322351cc15476123b39c1f2);\n",
              "        \n",
              "&lt;/script&gt;\" style=\"position:absolute;width:100%;height:100%;left:0;top:0;border:none !important;\" allowfullscreen webkitallowfullscreen mozallowfullscreen></iframe></div></div>"
            ]
          },
          "metadata": {},
          "execution_count": 60
        }
      ],
      "source": [
        "map = folium.Map()\n",
        "HeatMap(lat_lon_pairs).add_to(map)\n",
        "map"
      ]
    },
    {
      "cell_type": "markdown",
      "metadata": {
        "id": "SQLy7M_57frj"
      },
      "source": [
        "## Summary and Conclusion\n",
        "\n",
        "\n",
        "Insights:\n",
        "- No data from New York\n",
        "- The number of accidents per city decreases exponentially\n",
        "- Less than 5% of cities have more than 1000 yearly accidents.\n",
        "- Over 1000 cities have reported just one accident.\n"
      ]
    }
  ],
  "metadata": {
    "accelerator": "GPU",
    "colab": {
      "machine_shape": "hm",
      "name": "us-accidents-analysis.ipynb",
      "provenance": []
    },
    "kernelspec": {
      "display_name": "Python 3",
      "language": "python",
      "name": "python3"
    },
    "language_info": {
      "codemirror_mode": {
        "name": "ipython",
        "version": 3
      },
      "file_extension": ".py",
      "mimetype": "text/x-python",
      "name": "python",
      "nbconvert_exporter": "python",
      "pygments_lexer": "ipython3",
      "version": "3.7.6"
    }
  },
  "nbformat": 4,
  "nbformat_minor": 0
}